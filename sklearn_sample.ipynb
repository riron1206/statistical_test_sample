{
 "cells": [
  {
   "cell_type": "code",
   "execution_count": 1,
   "metadata": {},
   "outputs": [
    {
     "name": "stdout",
     "output_type": "stream",
     "text": [
      "/c/Users/shingo/jupyter_notebook/tf_2_work/statistical_test_sample\n"
     ]
    },
    {
     "data": {
      "text/plain": [
       "'C:\\\\Users\\\\shingo\\\\Anaconda3\\\\envs\\\\tfgpu20\\\\python.exe'"
      ]
     },
     "execution_count": 1,
     "metadata": {},
     "output_type": "execute_result"
    }
   ],
   "source": [
    "!pwd\n",
    "%matplotlib inline\n",
    "import sys\n",
    "sys.executable"
   ]
  },
  {
   "cell_type": "markdown",
   "metadata": {},
   "source": [
    "# ポケモンを題材に因果推論を実践してみる\n",
    "- https://tepppei.hatenablog.com/"
   ]
  },
  {
   "cell_type": "code",
   "execution_count": 2,
   "metadata": {
    "scrolled": true
   },
   "outputs": [
    {
     "name": "stdout",
     "output_type": "stream",
     "text": [
      "<class 'pandas.core.frame.DataFrame'>\n",
      "RangeIndex: 100 entries, 0 to 99\n",
      "Data columns (total 4 columns):\n",
      "Unnamed: 0      100 non-null int64\n",
      "rarity          100 non-null int64\n",
      "ball_type       100 non-null object\n",
      "thrown_balls    100 non-null int64\n",
      "dtypes: int64(3), object(1)\n",
      "memory usage: 3.2+ KB\n"
     ]
    },
    {
     "data": {
      "text/html": [
       "<div>\n",
       "<style scoped>\n",
       "    .dataframe tbody tr th:only-of-type {\n",
       "        vertical-align: middle;\n",
       "    }\n",
       "\n",
       "    .dataframe tbody tr th {\n",
       "        vertical-align: top;\n",
       "    }\n",
       "\n",
       "    .dataframe thead th {\n",
       "        text-align: right;\n",
       "    }\n",
       "</style>\n",
       "<table border=\"1\" class=\"dataframe\">\n",
       "  <thead>\n",
       "    <tr style=\"text-align: right;\">\n",
       "      <th></th>\n",
       "      <th>Unnamed: 0</th>\n",
       "      <th>rarity</th>\n",
       "      <th>ball_type</th>\n",
       "      <th>thrown_balls</th>\n",
       "    </tr>\n",
       "  </thead>\n",
       "  <tbody>\n",
       "    <tr>\n",
       "      <th>0</th>\n",
       "      <td>0</td>\n",
       "      <td>110</td>\n",
       "      <td>super</td>\n",
       "      <td>3</td>\n",
       "    </tr>\n",
       "    <tr>\n",
       "      <th>1</th>\n",
       "      <td>1</td>\n",
       "      <td>230</td>\n",
       "      <td>monster</td>\n",
       "      <td>2</td>\n",
       "    </tr>\n",
       "    <tr>\n",
       "      <th>2</th>\n",
       "      <td>2</td>\n",
       "      <td>110</td>\n",
       "      <td>super</td>\n",
       "      <td>4</td>\n",
       "    </tr>\n",
       "    <tr>\n",
       "      <th>3</th>\n",
       "      <td>3</td>\n",
       "      <td>110</td>\n",
       "      <td>super</td>\n",
       "      <td>1</td>\n",
       "    </tr>\n",
       "    <tr>\n",
       "      <th>4</th>\n",
       "      <td>4</td>\n",
       "      <td>120</td>\n",
       "      <td>super</td>\n",
       "      <td>2</td>\n",
       "    </tr>\n",
       "  </tbody>\n",
       "</table>\n",
       "</div>"
      ],
      "text/plain": [
       "   Unnamed: 0  rarity ball_type  thrown_balls\n",
       "0           0     110     super             3\n",
       "1           1     230   monster             2\n",
       "2           2     110     super             4\n",
       "3           3     110     super             1\n",
       "4           4     120     super             2"
      ]
     },
     "metadata": {},
     "output_type": "display_data"
    },
    {
     "data": {
      "text/html": [
       "<div>\n",
       "<style scoped>\n",
       "    .dataframe tbody tr th:only-of-type {\n",
       "        vertical-align: middle;\n",
       "    }\n",
       "\n",
       "    .dataframe tbody tr th {\n",
       "        vertical-align: top;\n",
       "    }\n",
       "\n",
       "    .dataframe thead th {\n",
       "        text-align: right;\n",
       "    }\n",
       "</style>\n",
       "<table border=\"1\" class=\"dataframe\">\n",
       "  <thead>\n",
       "    <tr style=\"text-align: right;\">\n",
       "      <th></th>\n",
       "      <th>Unnamed: 0</th>\n",
       "      <th>rarity</th>\n",
       "      <th>ball_type</th>\n",
       "      <th>thrown_balls</th>\n",
       "    </tr>\n",
       "  </thead>\n",
       "  <tbody>\n",
       "    <tr>\n",
       "      <th>count</th>\n",
       "      <td>100.000000</td>\n",
       "      <td>100.000</td>\n",
       "      <td>100</td>\n",
       "      <td>100.000000</td>\n",
       "    </tr>\n",
       "    <tr>\n",
       "      <th>unique</th>\n",
       "      <td>NaN</td>\n",
       "      <td>NaN</td>\n",
       "      <td>2</td>\n",
       "      <td>NaN</td>\n",
       "    </tr>\n",
       "    <tr>\n",
       "      <th>top</th>\n",
       "      <td>NaN</td>\n",
       "      <td>NaN</td>\n",
       "      <td>monster</td>\n",
       "      <td>NaN</td>\n",
       "    </tr>\n",
       "    <tr>\n",
       "      <th>freq</th>\n",
       "      <td>NaN</td>\n",
       "      <td>NaN</td>\n",
       "      <td>50</td>\n",
       "      <td>NaN</td>\n",
       "    </tr>\n",
       "    <tr>\n",
       "      <th>mean</th>\n",
       "      <td>49.500000</td>\n",
       "      <td>132.900</td>\n",
       "      <td>NaN</td>\n",
       "      <td>5.980000</td>\n",
       "    </tr>\n",
       "    <tr>\n",
       "      <th>std</th>\n",
       "      <td>29.011492</td>\n",
       "      <td>72.826</td>\n",
       "      <td>NaN</td>\n",
       "      <td>6.482268</td>\n",
       "    </tr>\n",
       "    <tr>\n",
       "      <th>min</th>\n",
       "      <td>0.000000</td>\n",
       "      <td>10.000</td>\n",
       "      <td>NaN</td>\n",
       "      <td>1.000000</td>\n",
       "    </tr>\n",
       "    <tr>\n",
       "      <th>25%</th>\n",
       "      <td>24.750000</td>\n",
       "      <td>65.000</td>\n",
       "      <td>NaN</td>\n",
       "      <td>1.000000</td>\n",
       "    </tr>\n",
       "    <tr>\n",
       "      <th>50%</th>\n",
       "      <td>49.500000</td>\n",
       "      <td>132.500</td>\n",
       "      <td>NaN</td>\n",
       "      <td>3.500000</td>\n",
       "    </tr>\n",
       "    <tr>\n",
       "      <th>75%</th>\n",
       "      <td>74.250000</td>\n",
       "      <td>201.250</td>\n",
       "      <td>NaN</td>\n",
       "      <td>7.250000</td>\n",
       "    </tr>\n",
       "    <tr>\n",
       "      <th>max</th>\n",
       "      <td>99.000000</td>\n",
       "      <td>255.000</td>\n",
       "      <td>NaN</td>\n",
       "      <td>36.000000</td>\n",
       "    </tr>\n",
       "  </tbody>\n",
       "</table>\n",
       "</div>"
      ],
      "text/plain": [
       "        Unnamed: 0   rarity ball_type  thrown_balls\n",
       "count   100.000000  100.000       100    100.000000\n",
       "unique         NaN      NaN         2           NaN\n",
       "top            NaN      NaN   monster           NaN\n",
       "freq           NaN      NaN        50           NaN\n",
       "mean     49.500000  132.900       NaN      5.980000\n",
       "std      29.011492   72.826       NaN      6.482268\n",
       "min       0.000000   10.000       NaN      1.000000\n",
       "25%      24.750000   65.000       NaN      1.000000\n",
       "50%      49.500000  132.500       NaN      3.500000\n",
       "75%      74.250000  201.250       NaN      7.250000\n",
       "max      99.000000  255.000       NaN     36.000000"
      ]
     },
     "metadata": {},
     "output_type": "display_data"
    }
   ],
   "source": [
    "import numpy as np\n",
    "import pandas as pd\n",
    "import matplotlib.pyplot as plt\n",
    "\n",
    "df = pd.read_csv('pokemon_ball_data.csv')\n",
    "df.info()\n",
    "display(df.head())\n",
    "display(df.describe(include='all'))"
   ]
  },
  {
   "cell_type": "markdown",
   "metadata": {},
   "source": [
    "## 線形回帰によるモデル化\n",
    "#### t検定と同じく、ボール投げる数を目的変数:y、ボールタイプを説明変数:x とした線形回帰モデルをスーパーボールとモンスターボールでそれぞれ作成\n",
    "<br>\n",
    "\n",
    "#### 結果：\n",
    "- スーパーボールのモデル:y = 6.74*x + b: 1回投げるとボール6個分の効果がある\n",
    "- モンスターボールのモデル:y = 5.22*x + b : 1回投げるのにボール5個分の効果がある\n",
    "\n",
    "<br>\n",
    "\n",
    "#### t検定と同じく、（重みの）差があまりない"
   ]
  },
  {
   "cell_type": "code",
   "execution_count": 3,
   "metadata": {},
   "outputs": [
    {
     "name": "stdout",
     "output_type": "stream",
     "text": [
      "0.23.0\n"
     ]
    },
    {
     "data": {
      "text/html": [
       "<div>\n",
       "<style scoped>\n",
       "    .dataframe tbody tr th:only-of-type {\n",
       "        vertical-align: middle;\n",
       "    }\n",
       "\n",
       "    .dataframe tbody tr th {\n",
       "        vertical-align: top;\n",
       "    }\n",
       "\n",
       "    .dataframe thead th {\n",
       "        text-align: right;\n",
       "    }\n",
       "</style>\n",
       "<table border=\"1\" class=\"dataframe\">\n",
       "  <thead>\n",
       "    <tr style=\"text-align: right;\">\n",
       "      <th></th>\n",
       "      <th>Unnamed: 0</th>\n",
       "      <th>rarity</th>\n",
       "      <th>thrown_balls</th>\n",
       "      <th>ball_type_monster</th>\n",
       "      <th>ball_type_super</th>\n",
       "    </tr>\n",
       "  </thead>\n",
       "  <tbody>\n",
       "    <tr>\n",
       "      <th>0</th>\n",
       "      <td>0</td>\n",
       "      <td>110</td>\n",
       "      <td>3</td>\n",
       "      <td>0</td>\n",
       "      <td>1</td>\n",
       "    </tr>\n",
       "    <tr>\n",
       "      <th>1</th>\n",
       "      <td>1</td>\n",
       "      <td>230</td>\n",
       "      <td>2</td>\n",
       "      <td>1</td>\n",
       "      <td>0</td>\n",
       "    </tr>\n",
       "    <tr>\n",
       "      <th>2</th>\n",
       "      <td>2</td>\n",
       "      <td>110</td>\n",
       "      <td>4</td>\n",
       "      <td>0</td>\n",
       "      <td>1</td>\n",
       "    </tr>\n",
       "    <tr>\n",
       "      <th>3</th>\n",
       "      <td>3</td>\n",
       "      <td>110</td>\n",
       "      <td>1</td>\n",
       "      <td>0</td>\n",
       "      <td>1</td>\n",
       "    </tr>\n",
       "    <tr>\n",
       "      <th>4</th>\n",
       "      <td>4</td>\n",
       "      <td>120</td>\n",
       "      <td>2</td>\n",
       "      <td>0</td>\n",
       "      <td>1</td>\n",
       "    </tr>\n",
       "  </tbody>\n",
       "</table>\n",
       "</div>"
      ],
      "text/plain": [
       "   Unnamed: 0  rarity  thrown_balls  ball_type_monster  ball_type_super\n",
       "0           0     110             3                  0                1\n",
       "1           1     230             2                  1                0\n",
       "2           2     110             4                  0                1\n",
       "3           3     110             1                  0                1\n",
       "4           4     120             2                  0                1"
      ]
     },
     "metadata": {},
     "output_type": "display_data"
    },
    {
     "name": "stdout",
     "output_type": "stream",
     "text": [
      "<class 'pandas.core.frame.DataFrame'>\n",
      "RangeIndex: 100 entries, 0 to 99\n",
      "Data columns (total 5 columns):\n",
      "Unnamed: 0           100 non-null int64\n",
      "rarity               100 non-null int64\n",
      "thrown_balls         100 non-null int64\n",
      "ball_type_monster    100 non-null uint8\n",
      "ball_type_super      100 non-null uint8\n",
      "dtypes: int64(3), uint8(2)\n",
      "memory usage: 2.7 KB\n"
     ]
    }
   ],
   "source": [
    "import sklearn\n",
    "print(sklearn.__version__)\n",
    "from sklearn.model_selection import train_test_split\n",
    "from sklearn.linear_model import PoissonRegressor\n",
    "from sklearn.linear_model import TweedieRegressor\n",
    "\n",
    "df_dummy = pd.get_dummies(df, columns=['ball_type'])\n",
    "display(df_dummy.head())\n",
    "df_dummy.info()"
   ]
  },
  {
   "cell_type": "code",
   "execution_count": 4,
   "metadata": {},
   "outputs": [],
   "source": [
    "def glm_plot(X, y, is_plot=False):\n",
    "    \"\"\"線形回帰+plot\"\"\"\n",
    "    reg = TweedieRegressor(alpha=0,  # ペナルティ項\n",
    "                           power=0,  # Normal distribution\n",
    "                           link='identity',  # link function\n",
    "                           fit_intercept=False,  # 切片\n",
    "                           max_iter=300,  # ソルバーの試行回数\n",
    "                          )\n",
    "    reg.fit(X, y)\n",
    "    print('重み:', reg.coef_)\n",
    "    y_hat = reg.predict(X)\n",
    "    \n",
    "    if is_plot:\n",
    "        # 可視化\n",
    "        fig = plt.figure(figsize=(6.0, 6.0))\n",
    "        plt.plot(X, y, \"o\")\n",
    "        plt.plot(X, y_hat, \"*\", color=\"r\")\n",
    "        plt.xlabel('x (total_bill)'), plt.ylabel('y (tips)')\n",
    "        plt.xlim(0, 60), plt.ylim(0, 12)\n",
    "        plt.show()"
   ]
  },
  {
   "cell_type": "code",
   "execution_count": 5,
   "metadata": {},
   "outputs": [
    {
     "name": "stdout",
     "output_type": "stream",
     "text": [
      "(100, 1) (100, 1)\n",
      "重み: [5.22]\n",
      "重み: [6.74]\n"
     ]
    }
   ],
   "source": [
    "# dfからnumpy.ndarrayに変換\n",
    "y = df_dummy['thrown_balls'].values          # 目的変数：y = [y0, y1, y2, ... yi]\n",
    "X_m = df_dummy['ball_type_monster'].values   # 説明変数：x = [x0, x1, x2, ... xi]\n",
    "X_s = df_dummy['ball_type_super'].values   # 説明変数：x = [x0, x1, x2, ... xi]\n",
    "\n",
    "# [x0, x1, x2,..] から [[x0], [x1], [x2]] に変換\n",
    "#X = X.reshape(len(X),1)\n",
    "X_m = X_m[:, None]\n",
    "X_s = X_s[:, None]\n",
    "print(X_m.shape, X_s.shape)\n",
    "    \n",
    "glm_plot(X_m, y)\n",
    "glm_plot(X_s, y)"
   ]
  },
  {
   "cell_type": "markdown",
   "metadata": {},
   "source": [
    "## 線形重回帰によるモデル化（交絡因子の説明変数を増やす）\n",
    "#### ボール投げる数を目的変数:y、ボールタイプとポケモンの捕獲しやすさを説明変数:x1,x2 とした線形重回帰モデルをスーパーボールとモンスターボールでそれぞれ作成\n",
    "<br>\n",
    "\n",
    "#### 結果：\n",
    "- スーパーボールのモデル:y = 5.3877 * x1 + 0.0153 * x2 + b: 1回投げるとボール5個分の効果がある\n",
    "- モンスターボールのモデル:y = 2.1026 * x1 + 0.0176 * x2 + b : 1回投げるとボール2個分の効果がある\n",
    "\n",
    "<br>\n",
    "\n",
    "#### t検定と違い、（重み）ボール3個分の差があることが言える"
   ]
  },
  {
   "cell_type": "code",
   "execution_count": 6,
   "metadata": {},
   "outputs": [
    {
     "name": "stdout",
     "output_type": "stream",
     "text": [
      "(100, 2) (100, 2)\n",
      "重み: [2.10262779 0.01755277]\n",
      "重み: [5.38771974 0.01533198]\n"
     ]
    }
   ],
   "source": [
    "# dfからnumpy.ndarrayに変換\n",
    "y = df_dummy['thrown_balls'].values          # 目的変数：y = [y0, y1, y2, ... yi]\n",
    "X_m = np.stack([df_dummy['ball_type_monster'].values, df_dummy['rarity'].values], axis=1)\n",
    "X_s = np.stack([df_dummy['ball_type_super'].values, df_dummy['rarity'].values], axis=1)\n",
    "\n",
    "print(X_m.shape, X_s.shape)\n",
    "#print(X_m[:2])\n",
    "\n",
    "glm_plot(X_m, y)\n",
    "glm_plot(X_s, y)"
   ]
  },
  {
   "cell_type": "code",
   "execution_count": null,
   "metadata": {},
   "outputs": [],
   "source": []
  }
 ],
 "metadata": {
  "kernelspec": {
   "display_name": "Python 3",
   "language": "python",
   "name": "python3"
  },
  "language_info": {
   "codemirror_mode": {
    "name": "ipython",
    "version": 3
   },
   "file_extension": ".py",
   "mimetype": "text/x-python",
   "name": "python",
   "nbconvert_exporter": "python",
   "pygments_lexer": "ipython3",
   "version": "3.7.5"
  }
 },
 "nbformat": 4,
 "nbformat_minor": 2
}
