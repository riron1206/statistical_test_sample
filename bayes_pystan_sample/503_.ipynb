{
 "cells": [
  {
   "cell_type": "code",
   "execution_count": 2,
   "metadata": {
    "ExecuteTime": {
     "end_time": "2020-09-22T05:54:41.990833Z",
     "start_time": "2020-09-22T05:54:41.984834Z"
    }
   },
   "outputs": [],
   "source": [
    "import numpy as np\n",
    "import pandas as pd\n",
    "import matplotlib.pyplot as plt\n",
    "from scipy.special import gamma  # ガンマ関数\n",
    "%matplotlib inline"
   ]
  },
  {
   "cell_type": "code",
   "execution_count": 11,
   "metadata": {
    "ExecuteTime": {
     "end_time": "2020-09-22T06:00:40.930924Z",
     "start_time": "2020-09-22T06:00:40.925938Z"
    }
   },
   "outputs": [],
   "source": [
    "plt.style.use(\"ggplot\")\n",
    "np.random.seed(123)"
   ]
  },
  {
   "cell_type": "code",
   "execution_count": 16,
   "metadata": {
    "ExecuteTime": {
     "end_time": "2020-09-22T06:02:49.164910Z",
     "start_time": "2020-09-22T06:02:43.460701Z"
    },
    "scrolled": true
   },
   "outputs": [
    {
     "name": "stdout",
     "output_type": "stream",
     "text": [
      "\n",
      "---- dim=0----\n",
      "accept ratio:  1.0\n",
      "analytical solution:  1.0\n",
      "\n",
      "---- dim=1----\n",
      "accept ratio:  1.0\n",
      "analytical solution:  1.0\n",
      "\n",
      "---- dim=2----\n",
      "accept ratio:  0.78495\n",
      "analytical solution:  0.7853981633974483\n",
      "\n",
      "---- dim=3----\n",
      "accept ratio:  0.521325\n",
      "analytical solution:  0.5235987755982989\n",
      "\n",
      "---- dim=4----\n",
      "accept ratio:  0.315875\n",
      "analytical solution:  0.30842513753404244\n",
      "\n",
      "---- dim=5----\n",
      "accept ratio:  0.165275\n",
      "analytical solution:  0.16449340668482262\n",
      "\n",
      "---- dim=6----\n",
      "accept ratio:  0.08065\n",
      "analytical solution:  0.08074551218828077\n",
      "\n",
      "---- dim=7----\n",
      "accept ratio:  0.036\n",
      "analytical solution:  0.03691223414321407\n",
      "\n",
      "---- dim=8----\n",
      "accept ratio:  0.0161\n",
      "analytical solution:  0.0158543442438155\n",
      "\n",
      "---- dim=9----\n",
      "accept ratio:  0.006175\n",
      "analytical solution:  0.006442400200661536\n",
      "\n",
      "---- dim=10----\n",
      "accept ratio:  0.002625\n",
      "analytical solution:  0.00249039457019272\n",
      "\n",
      "---- dim=11----\n",
      "accept ratio:  0.00085\n",
      "analytical solution:  0.0009199725973583495\n",
      "\n",
      "---- dim=12----\n",
      "accept ratio:  0.00035\n",
      "analytical solution:  0.00032599188692738996\n",
      "\n",
      "---- dim=13----\n",
      "accept ratio:  0.00015\n",
      "analytical solution:  0.00011116073666788121\n",
      "\n",
      "---- dim=14----\n",
      "accept ratio:  7.5e-05\n",
      "analytical solution:  3.657620418217724e-05\n"
     ]
    }
   ],
   "source": [
    "# 次元の呪いにより、高次元の場合、モンテカルロの解と解析解が一致しなくなる\n",
    "# 次元上がるとランダムに点を打つだけでは成立しないことわかる\n",
    "accept_dict = {}\n",
    "NMCS = 40000  # サンプル数\n",
    "Ndim = 15  # 次元数\n",
    "for ii in range(Ndim):\n",
    "    print(f\"\\n---- dim={ii}----\")\n",
    "    accept = 0  # 初期化\n",
    "    for i in range(NMCS):\n",
    "        x = 2 * np.random.rand(ii) - 1.0  # 座標\n",
    "        r = (np.sum(x**2)) ** 0.5  # 距離\n",
    "        if r <= 1:\n",
    "            accept += 1  # 棄却サンプリング\n",
    "    accept_ratio = accept / NMCS  # 受容確率\n",
    "    analytical = np.pi **(ii/2.0) / (2 ** ii * gamma(ii / 2 + 1))  # N次元の級の体積=解析解\n",
    "    print(\"accept ratio: \", accept_ratio)  # モンテカルロで出した結果\n",
    "    print(\"analytical solution: \", analytical)  # 解析解\n",
    "    accept_dict.update({ii:accept_ratio / analytical})"
   ]
  },
  {
   "cell_type": "code",
   "execution_count": 17,
   "metadata": {
    "ExecuteTime": {
     "end_time": "2020-09-22T06:03:01.664728Z",
     "start_time": "2020-09-22T06:03:01.535048Z"
    }
   },
   "outputs": [
    {
     "data": {
      "text/plain": [
       "Text(0, 0.5, 'ratio[-]')"
      ]
     },
     "execution_count": 17,
     "metadata": {},
     "output_type": "execute_result"
    },
    {
     "data": {
      "image/png": "[encoded data removed]",
      "text/plain": [
       "<Figure size 432x288 with 1 Axes>"
      ]
     },
     "metadata": {},
     "output_type": "display_data"
    }
   ],
   "source": [
    "df = pd.DataFrame.from_dict(accept_dict, orient=\"index\")\n",
    "plt.scatter(df.index,df[0])\n",
    "plt.xlabel(\"dimension\")\n",
    "plt.ylabel(\"ratio[-]\")"
   ]
  },
  {
   "cell_type": "code",
   "execution_count": null,
   "metadata": {
    "collapsed": true
   },
   "outputs": [],
   "source": []
  }
 ],
 "metadata": {
  "hide_input": false,
  "kernelspec": {
   "display_name": "Python 3",
   "language": "python",
   "name": "python3"
  },
  "language_info": {
   "codemirror_mode": {
    "name": "ipython",
    "version": 3
   },
   "file_extension": ".py",
   "mimetype": "text/x-python",
   "name": "python",
   "nbconvert_exporter": "python",
   "pygments_lexer": "ipython3",
   "version": "3.7.7"
  }
 },
 "nbformat": 4,
 "nbformat_minor": 2
}
