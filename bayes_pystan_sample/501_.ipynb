{
 "cells": [
  {
   "cell_type": "code",
   "execution_count": 1,
   "metadata": {
    "ExecuteTime": {
     "end_time": "2020-09-22T02:24:04.370565Z",
     "start_time": "2020-09-22T02:24:03.536546Z"
    }
   },
   "outputs": [
    {
     "name": "stderr",
     "output_type": "stream",
     "text": [
      "C:\\Users\\yokoi.shingo\\Anaconda3\\envs\\py37\\lib\\site-packages\\IPython\\html.py:14: ShimWarning: The `IPython.html` package has been deprecated since IPython 4.0. You should import from `notebook` instead. `IPython.html.widgets` has moved to `ipywidgets`.\n",
      "  \"`IPython.html.widgets` has moved to `ipywidgets`.\", ShimWarning)\n"
     ]
    }
   ],
   "source": [
    "import numpy as np\n",
    "import pandas as pd\n",
    "import matplotlib.pyplot as plt\n",
    "from IPython.html.widgets import interact\n",
    "%matplotlib inline"
   ]
  },
  {
   "cell_type": "code",
   "execution_count": 2,
   "metadata": {
    "ExecuteTime": {
     "end_time": "2020-09-22T02:24:06.126180Z",
     "start_time": "2020-09-22T02:24:06.114209Z"
    }
   },
   "outputs": [],
   "source": [
    "plt.style.use(\"ggplot\")\n",
    "np.random.seed(123)"
   ]
  },
  {
   "cell_type": "code",
   "execution_count": 3,
   "metadata": {
    "ExecuteTime": {
     "end_time": "2020-09-22T02:24:11.687039Z",
     "start_time": "2020-09-22T02:24:11.680059Z"
    }
   },
   "outputs": [
    {
     "name": "stdout",
     "output_type": "stream",
     "text": [
      "0.82\n"
     ]
    }
   ],
   "source": [
    "NMC = 100  # 座標の数\n",
    "xmc = np.random.rand(NMC)  # x軸の座標\n",
    "ymc = np.random.rand(NMC)  # y軸の座標\n",
    "r = (xmc ** 2 + ymc ** 2) ** 0.5  # x,y軸上の距離計算\n",
    "accept = np.where(r<=1, 1, 0)  # 半径1以下に入ったか判定\n",
    "accept_ratio = np.sum(accept) / NMC  # 何割入ったか\n",
    "print(accept_ratio)  # 解析解は(pi/4)/1=0.785 なので解析解よりやや多い"
   ]
  },
  {
   "cell_type": "code",
   "execution_count": 4,
   "metadata": {
    "ExecuteTime": {
     "end_time": "2020-09-22T02:24:18.440123Z",
     "start_time": "2020-09-22T02:24:18.241627Z"
    }
   },
   "outputs": [
    {
     "data": {
      "application/vnd.jupyter.widget-view+json": {
       "model_id": "f4413dd44ffe44fea4266b1c7b5f1cfa",
       "version_major": 2,
       "version_minor": 0
      },
      "text/plain": [
       "interactive(children=(IntSlider(value=0, description='mcs'), Output()), _dom_classes=('widget-interact',))"
      ]
     },
     "metadata": {},
     "output_type": "display_data"
    }
   ],
   "source": [
    "NMC = 100\n",
    "xmc = np.random.rand(NMC)\n",
    "ymc = np.random.rand(NMC)\n",
    "@interact(mcs=(0,NMC,1))  # インタラクティブに点の数変更する\n",
    "def animation(mcs=0):\n",
    "    \"\"\"円の中に入る乱数の点をplot\"\"\"\n",
    "    plt.figure(figsize=(6,6))\n",
    "    plt.xlim([0,1])\n",
    "    plt.ylim([0,1])\n",
    "    x = np.arange(0,1,0.001)\n",
    "    y = (1 - x ** 2) ** 0.5\n",
    "    y2 = np.ones(x.shape[0])\n",
    "    plt.plot(x,y)\n",
    "    plt.fill_between(x, y, alpha=0.3)  # 塗りつぶし。alphaで透過\n",
    "    plt.fill_between(x, y, y2,alpha=0.3)\n",
    "    r = (xmc[:mcs] ** 2 + ymc[:mcs] ** 2) ** 0.5\n",
    "    accept = np.where(r<=1, 1, 0)\n",
    "    accept_ratio = np.sum(accept) / mcs\n",
    "    plt.scatter(xmc[:mcs], ymc[:mcs], color=\"black\", marker=\".\")\n",
    "    plt.show()\n",
    "    print(\"Monte Carlo: \",accept_ratio)\n",
    "    print(\"Analytical Solution: \", np.pi / 4.0)"
   ]
  },
  {
   "cell_type": "code",
   "execution_count": 5,
   "metadata": {
    "ExecuteTime": {
     "end_time": "2020-09-22T02:24:34.410418Z",
     "start_time": "2020-09-22T02:24:34.354506Z"
    }
   },
   "outputs": [],
   "source": [
    "pi_mcs = []\n",
    "NMC = 2000\n",
    "xmc = np.random.rand(NMC)\n",
    "ymc = np.random.rand(NMC)\n",
    "for mcs in range(1,NMC):\n",
    "    r = (xmc[:mcs] ** 2 + ymc[:mcs] ** 2) ** 0.5\n",
    "    accept = np.where(r<=1, 1, 0)\n",
    "    accept_ratio = np.sum(accept) / mcs\n",
    "    pi_mcs.append(accept_ratio)"
   ]
  },
  {
   "cell_type": "code",
   "execution_count": 6,
   "metadata": {
    "ExecuteTime": {
     "end_time": "2020-09-22T02:24:37.587389Z",
     "start_time": "2020-09-22T02:24:37.583401Z"
    }
   },
   "outputs": [],
   "source": [
    "pi_x = np.arange(len(pi_mcs)) + 1"
   ]
  },
  {
   "cell_type": "code",
   "execution_count": 7,
   "metadata": {
    "ExecuteTime": {
     "end_time": "2020-09-22T02:24:40.166395Z",
     "start_time": "2020-09-22T02:24:40.023805Z"
    }
   },
   "outputs": [
    {
     "data": {
      "text/plain": [
       "Text(0, 0.5, 'accept ratio')"
      ]
     },
     "execution_count": 7,
     "metadata": {},
     "output_type": "execute_result"
    },
    {
     "data": {
      "image/png": "[encoded data removed]",
      "text/plain": [
       "<Figure size 432x288 with 1 Axes>"
      ]
     },
     "metadata": {},
     "output_type": "display_data"
    }
   ],
   "source": [
    "plt.plot(pi_x, pi_mcs)\n",
    "plt.hlines(0.785, pi_x[0], pi_x[-1], linestyles=\"dashed\")\n",
    "plt.xlabel(\"MCS\")\n",
    "plt.ylabel(\"accept ratio\")\n",
    "# サンプル数多いと解析解に漸近していく"
   ]
  },
  {
   "cell_type": "code",
   "execution_count": null,
   "metadata": {
    "collapsed": true
   },
   "outputs": [],
   "source": []
  }
 ],
 "metadata": {
  "hide_input": false,
  "kernelspec": {
   "display_name": "Python 3",
   "language": "python",
   "name": "python3"
  },
  "language_info": {
   "codemirror_mode": {
    "name": "ipython",
    "version": 3
   },
   "file_extension": ".py",
   "mimetype": "text/x-python",
   "name": "python",
   "nbconvert_exporter": "python",
   "pygments_lexer": "ipython3",
   "version": "3.7.7"
  }
 },
 "nbformat": 4,
 "nbformat_minor": 2
}
