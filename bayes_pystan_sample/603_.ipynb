{
 "cells": [
  {
   "cell_type": "markdown",
   "metadata": {},
   "source": [
    "# 単回帰でベイズ信頼区間・予測区間確認\n",
    "- ベイズ推定は有限のデータからパラメータ推定しているので誤差が伴う\n",
    "- 前の単回帰で出した直線なら、傾きや切片が少し違う式があり得る。予測直線にばらつきがあるはず\n",
    "- このばらつきがどれぐらいの範囲に収まっているかがベイズ信頼区間\n",
    "- ベイズ信頼区間はモデルの精度と同義\n",
    "- 予測区間は予測したパラメータを使ったモデルでMCMCサンプリングしたときの値。要は実際の予測値"
   ]
  },
  {
   "cell_type": "code",
   "execution_count": 1,
   "metadata": {
    "ExecuteTime": {
     "end_time": "2020-09-29T15:31:41.867387Z",
     "start_time": "2020-09-29T15:31:39.365721Z"
    }
   },
   "outputs": [],
   "source": [
    "import pandas as pd\n",
    "import matplotlib.pyplot as plt\n",
    "import numpy as np\n",
    "import pystan\n",
    "from scipy.stats import mstats\n",
    "%matplotlib inline"
   ]
  },
  {
   "cell_type": "code",
   "execution_count": 2,
   "metadata": {
    "ExecuteTime": {
     "end_time": "2020-09-29T15:31:41.874369Z",
     "start_time": "2020-09-29T15:31:41.869382Z"
    }
   },
   "outputs": [],
   "source": [
    "plt.style.use(\"ggplot\")"
   ]
  },
  {
   "cell_type": "code",
   "execution_count": 3,
   "metadata": {
    "ExecuteTime": {
     "end_time": "2020-09-29T15:31:41.965003Z",
     "start_time": "2020-09-29T15:31:41.877361Z"
    }
   },
   "outputs": [],
   "source": [
    "df = pd.read_excel(\"./data/real_estate1.xlsx\")"
   ]
  },
  {
   "cell_type": "code",
   "execution_count": 4,
   "metadata": {
    "ExecuteTime": {
     "end_time": "2020-09-29T15:31:42.001917Z",
     "start_time": "2020-09-29T15:31:41.967994Z"
    }
   },
   "outputs": [],
   "source": [
    "# generated quantitiesブロックは予測区間出すために必要なブロック\n",
    "#  = normal_rng( 使うのがgenerated quantities 特有のルール\n",
    "# generated quantities のデータ入れ物はdataブロックのN_s, X_s\n",
    "\n",
    "stan_model = \"\"\"\n",
    "data {\n",
    "  int N;\n",
    "  real X[N];\n",
    "  real Y[N];\n",
    "  int N_s;\n",
    "  real X_s[N_s];\n",
    "}\n",
    "\n",
    "parameters {\n",
    "  real a;\n",
    "  real b;\n",
    "  real<lower=0> sigma;\n",
    "}\n",
    "\n",
    "model {\n",
    "  for (n in 1:N){\n",
    "    Y[n] ~ normal(a * X[n] + b, sigma);\n",
    "  }\n",
    "}\n",
    "\n",
    "generated quantities {\n",
    "  real Y_s[N_s];\n",
    "  for (n in 1:N_s){\n",
    "    Y_s[n] = normal_rng(a * X_s[n] + b, sigma);\n",
    "  }\n",
    "}\n",
    "\n",
    "\"\"\""
   ]
  },
  {
   "cell_type": "code",
   "execution_count": 5,
   "metadata": {
    "ExecuteTime": {
     "end_time": "2020-09-29T15:32:24.212194Z",
     "start_time": "2020-09-29T15:31:42.003896Z"
    }
   },
   "outputs": [
    {
     "name": "stderr",
     "output_type": "stream",
     "text": [
      "INFO:pystan:COMPILING THE C++ CODE FOR MODEL anon_model_81acff9de421dcd46dd949b5b0a70352 NOW.\n"
     ]
    }
   ],
   "source": [
    "# コンパイル\n",
    "\n",
    "sm = pystan.StanModel(model_code=stan_model)"
   ]
  },
  {
   "cell_type": "code",
   "execution_count": 6,
   "metadata": {
    "ExecuteTime": {
     "end_time": "2020-09-29T15:32:24.223133Z",
     "start_time": "2020-09-29T15:32:24.216153Z"
    }
   },
   "outputs": [],
   "source": [
    "# 予測区間出すためのデータも用意\n",
    "\n",
    "X_s = np.arange(40,90,1)\n",
    "N_s = X_s.shape[0]\n",
    "stan_data = {\"N\":df.shape[0],\"X\":df[\"space\"],\"Y\":df[\"value\"],\"N_s\":N_s,\"X_s\":X_s}"
   ]
  },
  {
   "cell_type": "code",
   "execution_count": 7,
   "metadata": {
    "ExecuteTime": {
     "end_time": "2020-09-29T15:32:27.305889Z",
     "start_time": "2020-09-29T15:32:24.226126Z"
    }
   },
   "outputs": [],
   "source": [
    "# MCMCサンプリング実行\n",
    "\n",
    "fit = sm.sampling(data = stan_data, iter = 2000, warmup= 500, chains= 3, seed=123)"
   ]
  },
  {
   "cell_type": "code",
   "execution_count": 8,
   "metadata": {
    "ExecuteTime": {
     "end_time": "2020-09-29T15:32:27.315832Z",
     "start_time": "2020-09-29T15:32:27.307852Z"
    }
   },
   "outputs": [
    {
     "data": {
      "text/plain": [
       "OrderedDict([('a',\n",
       "              array([ 77.09133032, 107.73966906,  91.28302211, ...,  67.29056738,\n",
       "                      68.56209969,  65.09318035]))])"
      ]
     },
     "execution_count": 8,
     "metadata": {},
     "output_type": "execute_result"
    }
   ],
   "source": [
    "# extractで推定したパラメータaのデータの抽出を行う\n",
    "\n",
    "fit.extract(\"a\")"
   ]
  },
  {
   "cell_type": "code",
   "execution_count": 9,
   "metadata": {
    "ExecuteTime": {
     "end_time": "2020-09-29T15:32:27.382653Z",
     "start_time": "2020-09-29T15:32:27.317825Z"
    }
   },
   "outputs": [],
   "source": [
    "# 辞書型だから値だけとって\n",
    "\n",
    "ms_a = fit.extract(\"a\")[\"a\"]"
   ]
  },
  {
   "cell_type": "code",
   "execution_count": 10,
   "metadata": {
    "ExecuteTime": {
     "end_time": "2020-09-29T15:32:27.451468Z",
     "start_time": "2020-09-29T15:32:27.384647Z"
    }
   },
   "outputs": [
    {
     "data": {
      "text/plain": [
       "array([ 77.09133032, 107.73966906,  91.28302211, ...,  67.29056738,\n",
       "        68.56209969,  65.09318035])"
      ]
     },
     "execution_count": 10,
     "metadata": {},
     "output_type": "execute_result"
    }
   ],
   "source": [
    "ms_a"
   ]
  },
  {
   "cell_type": "code",
   "execution_count": 20,
   "metadata": {
    "ExecuteTime": {
     "end_time": "2020-09-29T15:39:06.586848Z",
     "start_time": "2020-09-29T15:39:06.451209Z"
    }
   },
   "outputs": [
    {
     "data": {
      "text/plain": [
       "(array([   6.,   26.,  155.,  498., 1059., 1357.,  934.,  361.,   85.,\n",
       "          19.]),\n",
       " array([ 32.64861892,  41.06662558,  49.48463224,  57.90263891,\n",
       "         66.32064557,  74.73865223,  83.1566589 ,  91.57466556,\n",
       "         99.99267222, 108.41067889, 116.82868555]),\n",
       " <BarContainer object of 10 artists>)"
      ]
     },
     "execution_count": 20,
     "metadata": {},
     "output_type": "execute_result"
    },
    {
     "data": {
      "image/png": "[encoded data removed]",
      "text/plain": [
       "<Figure size 432x288 with 1 Axes>"
      ]
     },
     "metadata": {},
     "output_type": "display_data"
    }
   ],
   "source": [
    "# plotするとパラメータaのヒストグラムは正規分布であることわかる\n",
    "\n",
    "plt.hist(ms_a)"
   ]
  },
  {
   "cell_type": "code",
   "execution_count": 12,
   "metadata": {
    "ExecuteTime": {
     "end_time": "2020-09-29T15:32:27.668922Z",
     "start_time": "2020-09-29T15:32:27.664899Z"
    }
   },
   "outputs": [],
   "source": [
    "ms_b = fit.extract(\"b\")[\"b\"]"
   ]
  },
  {
   "cell_type": "code",
   "execution_count": 13,
   "metadata": {
    "ExecuteTime": {
     "end_time": "2020-09-29T15:32:27.776599Z",
     "start_time": "2020-09-29T15:32:27.670882Z"
    }
   },
   "outputs": [],
   "source": [
    "# 抽出したパラメーから値作る\n",
    "\n",
    "df_b = pd.DataFrame([])\n",
    "for i in range(40, 90, 1):\n",
    "    df_b[i] = ms_a * i + ms_b"
   ]
  },
  {
   "cell_type": "code",
   "execution_count": 14,
   "metadata": {
    "ExecuteTime": {
     "end_time": "2020-09-29T15:32:27.855388Z",
     "start_time": "2020-09-29T15:32:27.778594Z"
    }
   },
   "outputs": [
    {
     "data": {
      "text/html": [
       "<div>\n",
       "<style scoped>\n",
       "    .dataframe tbody tr th:only-of-type {\n",
       "        vertical-align: middle;\n",
       "    }\n",
       "\n",
       "    .dataframe tbody tr th {\n",
       "        vertical-align: top;\n",
       "    }\n",
       "\n",
       "    .dataframe thead th {\n",
       "        text-align: right;\n",
       "    }\n",
       "</style>\n",
       "<table border=\"1\" class=\"dataframe\">\n",
       "  <thead>\n",
       "    <tr style=\"text-align: right;\">\n",
       "      <th></th>\n",
       "      <th>40</th>\n",
       "      <th>41</th>\n",
       "      <th>42</th>\n",
       "      <th>43</th>\n",
       "      <th>44</th>\n",
       "      <th>45</th>\n",
       "      <th>46</th>\n",
       "      <th>47</th>\n",
       "      <th>48</th>\n",
       "      <th>49</th>\n",
       "      <th>...</th>\n",
       "      <th>80</th>\n",
       "      <th>81</th>\n",
       "      <th>82</th>\n",
       "      <th>83</th>\n",
       "      <th>84</th>\n",
       "      <th>85</th>\n",
       "      <th>86</th>\n",
       "      <th>87</th>\n",
       "      <th>88</th>\n",
       "      <th>89</th>\n",
       "    </tr>\n",
       "  </thead>\n",
       "  <tbody>\n",
       "    <tr>\n",
       "      <th>0</th>\n",
       "      <td>2345.002879</td>\n",
       "      <td>2422.094209</td>\n",
       "      <td>2499.185540</td>\n",
       "      <td>2576.276870</td>\n",
       "      <td>2653.368200</td>\n",
       "      <td>2730.459531</td>\n",
       "      <td>2807.550861</td>\n",
       "      <td>2884.642191</td>\n",
       "      <td>2961.733521</td>\n",
       "      <td>3038.824852</td>\n",
       "      <td>...</td>\n",
       "      <td>5428.656092</td>\n",
       "      <td>5505.747422</td>\n",
       "      <td>5582.838752</td>\n",
       "      <td>5659.930083</td>\n",
       "      <td>5737.021413</td>\n",
       "      <td>5814.112743</td>\n",
       "      <td>5891.204074</td>\n",
       "      <td>5968.295404</td>\n",
       "      <td>6045.386734</td>\n",
       "      <td>6122.478065</td>\n",
       "    </tr>\n",
       "    <tr>\n",
       "      <th>1</th>\n",
       "      <td>1210.483741</td>\n",
       "      <td>1318.223410</td>\n",
       "      <td>1425.963079</td>\n",
       "      <td>1533.702748</td>\n",
       "      <td>1641.442418</td>\n",
       "      <td>1749.182087</td>\n",
       "      <td>1856.921756</td>\n",
       "      <td>1964.661425</td>\n",
       "      <td>2072.401094</td>\n",
       "      <td>2180.140763</td>\n",
       "      <td>...</td>\n",
       "      <td>5520.070504</td>\n",
       "      <td>5627.810173</td>\n",
       "      <td>5735.549842</td>\n",
       "      <td>5843.289511</td>\n",
       "      <td>5951.029180</td>\n",
       "      <td>6058.768849</td>\n",
       "      <td>6166.508518</td>\n",
       "      <td>6274.248187</td>\n",
       "      <td>6381.987856</td>\n",
       "      <td>6489.727525</td>\n",
       "    </tr>\n",
       "    <tr>\n",
       "      <th>2</th>\n",
       "      <td>2025.247961</td>\n",
       "      <td>2116.530983</td>\n",
       "      <td>2207.814005</td>\n",
       "      <td>2299.097028</td>\n",
       "      <td>2390.380050</td>\n",
       "      <td>2481.663072</td>\n",
       "      <td>2572.946094</td>\n",
       "      <td>2664.229116</td>\n",
       "      <td>2755.512138</td>\n",
       "      <td>2846.795160</td>\n",
       "      <td>...</td>\n",
       "      <td>5676.568846</td>\n",
       "      <td>5767.851868</td>\n",
       "      <td>5859.134890</td>\n",
       "      <td>5950.417912</td>\n",
       "      <td>6041.700934</td>\n",
       "      <td>6132.983956</td>\n",
       "      <td>6224.266978</td>\n",
       "      <td>6315.550000</td>\n",
       "      <td>6406.833022</td>\n",
       "      <td>6498.116045</td>\n",
       "    </tr>\n",
       "    <tr>\n",
       "      <th>3</th>\n",
       "      <td>1778.946943</td>\n",
       "      <td>1868.078689</td>\n",
       "      <td>1957.210435</td>\n",
       "      <td>2046.342180</td>\n",
       "      <td>2135.473926</td>\n",
       "      <td>2224.605671</td>\n",
       "      <td>2313.737417</td>\n",
       "      <td>2402.869163</td>\n",
       "      <td>2492.000908</td>\n",
       "      <td>2581.132654</td>\n",
       "      <td>...</td>\n",
       "      <td>5344.216768</td>\n",
       "      <td>5433.348514</td>\n",
       "      <td>5522.480259</td>\n",
       "      <td>5611.612005</td>\n",
       "      <td>5700.743750</td>\n",
       "      <td>5789.875496</td>\n",
       "      <td>5879.007242</td>\n",
       "      <td>5968.138987</td>\n",
       "      <td>6057.270733</td>\n",
       "      <td>6146.402478</td>\n",
       "    </tr>\n",
       "    <tr>\n",
       "      <th>4</th>\n",
       "      <td>2686.829769</td>\n",
       "      <td>2761.807728</td>\n",
       "      <td>2836.785688</td>\n",
       "      <td>2911.763648</td>\n",
       "      <td>2986.741607</td>\n",
       "      <td>3061.719567</td>\n",
       "      <td>3136.697526</td>\n",
       "      <td>3211.675486</td>\n",
       "      <td>3286.653446</td>\n",
       "      <td>3361.631405</td>\n",
       "      <td>...</td>\n",
       "      <td>5685.948153</td>\n",
       "      <td>5760.926113</td>\n",
       "      <td>5835.904073</td>\n",
       "      <td>5910.882032</td>\n",
       "      <td>5985.859992</td>\n",
       "      <td>6060.837951</td>\n",
       "      <td>6135.815911</td>\n",
       "      <td>6210.793871</td>\n",
       "      <td>6285.771830</td>\n",
       "      <td>6360.749790</td>\n",
       "    </tr>\n",
       "    <tr>\n",
       "      <th>...</th>\n",
       "      <td>...</td>\n",
       "      <td>...</td>\n",
       "      <td>...</td>\n",
       "      <td>...</td>\n",
       "      <td>...</td>\n",
       "      <td>...</td>\n",
       "      <td>...</td>\n",
       "      <td>...</td>\n",
       "      <td>...</td>\n",
       "      <td>...</td>\n",
       "      <td>...</td>\n",
       "      <td>...</td>\n",
       "      <td>...</td>\n",
       "      <td>...</td>\n",
       "      <td>...</td>\n",
       "      <td>...</td>\n",
       "      <td>...</td>\n",
       "      <td>...</td>\n",
       "      <td>...</td>\n",
       "      <td>...</td>\n",
       "      <td>...</td>\n",
       "    </tr>\n",
       "    <tr>\n",
       "      <th>4495</th>\n",
       "      <td>2376.116103</td>\n",
       "      <td>2451.372111</td>\n",
       "      <td>2526.628119</td>\n",
       "      <td>2601.884127</td>\n",
       "      <td>2677.140135</td>\n",
       "      <td>2752.396143</td>\n",
       "      <td>2827.652151</td>\n",
       "      <td>2902.908159</td>\n",
       "      <td>2978.164167</td>\n",
       "      <td>3053.420175</td>\n",
       "      <td>...</td>\n",
       "      <td>5386.356420</td>\n",
       "      <td>5461.612428</td>\n",
       "      <td>5536.868436</td>\n",
       "      <td>5612.124444</td>\n",
       "      <td>5687.380452</td>\n",
       "      <td>5762.636460</td>\n",
       "      <td>5837.892467</td>\n",
       "      <td>5913.148475</td>\n",
       "      <td>5988.404483</td>\n",
       "      <td>6063.660491</td>\n",
       "    </tr>\n",
       "    <tr>\n",
       "      <th>4496</th>\n",
       "      <td>2224.871867</td>\n",
       "      <td>2309.444107</td>\n",
       "      <td>2394.016348</td>\n",
       "      <td>2478.588589</td>\n",
       "      <td>2563.160830</td>\n",
       "      <td>2647.733071</td>\n",
       "      <td>2732.305312</td>\n",
       "      <td>2816.877552</td>\n",
       "      <td>2901.449793</td>\n",
       "      <td>2986.022034</td>\n",
       "      <td>...</td>\n",
       "      <td>5607.761500</td>\n",
       "      <td>5692.333741</td>\n",
       "      <td>5776.905981</td>\n",
       "      <td>5861.478222</td>\n",
       "      <td>5946.050463</td>\n",
       "      <td>6030.622704</td>\n",
       "      <td>6115.194945</td>\n",
       "      <td>6199.767186</td>\n",
       "      <td>6284.339426</td>\n",
       "      <td>6368.911667</td>\n",
       "    </tr>\n",
       "    <tr>\n",
       "      <th>4497</th>\n",
       "      <td>2947.100836</td>\n",
       "      <td>3014.391403</td>\n",
       "      <td>3081.681971</td>\n",
       "      <td>3148.972538</td>\n",
       "      <td>3216.263105</td>\n",
       "      <td>3283.553673</td>\n",
       "      <td>3350.844240</td>\n",
       "      <td>3418.134808</td>\n",
       "      <td>3485.425375</td>\n",
       "      <td>3552.715942</td>\n",
       "      <td>...</td>\n",
       "      <td>5638.723531</td>\n",
       "      <td>5706.014099</td>\n",
       "      <td>5773.304666</td>\n",
       "      <td>5840.595233</td>\n",
       "      <td>5907.885801</td>\n",
       "      <td>5975.176368</td>\n",
       "      <td>6042.466935</td>\n",
       "      <td>6109.757503</td>\n",
       "      <td>6177.048070</td>\n",
       "      <td>6244.338638</td>\n",
       "    </tr>\n",
       "    <tr>\n",
       "      <th>4498</th>\n",
       "      <td>2671.732872</td>\n",
       "      <td>2740.294972</td>\n",
       "      <td>2808.857072</td>\n",
       "      <td>2877.419172</td>\n",
       "      <td>2945.981271</td>\n",
       "      <td>3014.543371</td>\n",
       "      <td>3083.105471</td>\n",
       "      <td>3151.667570</td>\n",
       "      <td>3220.229670</td>\n",
       "      <td>3288.791770</td>\n",
       "      <td>...</td>\n",
       "      <td>5414.216860</td>\n",
       "      <td>5482.778960</td>\n",
       "      <td>5551.341059</td>\n",
       "      <td>5619.903159</td>\n",
       "      <td>5688.465259</td>\n",
       "      <td>5757.027359</td>\n",
       "      <td>5825.589458</td>\n",
       "      <td>5894.151558</td>\n",
       "      <td>5962.713658</td>\n",
       "      <td>6031.275757</td>\n",
       "    </tr>\n",
       "    <tr>\n",
       "      <th>4499</th>\n",
       "      <td>2727.416609</td>\n",
       "      <td>2792.509789</td>\n",
       "      <td>2857.602970</td>\n",
       "      <td>2922.696150</td>\n",
       "      <td>2987.789331</td>\n",
       "      <td>3052.882511</td>\n",
       "      <td>3117.975691</td>\n",
       "      <td>3183.068872</td>\n",
       "      <td>3248.162052</td>\n",
       "      <td>3313.255232</td>\n",
       "      <td>...</td>\n",
       "      <td>5331.143823</td>\n",
       "      <td>5396.237004</td>\n",
       "      <td>5461.330184</td>\n",
       "      <td>5526.423364</td>\n",
       "      <td>5591.516545</td>\n",
       "      <td>5656.609725</td>\n",
       "      <td>5721.702905</td>\n",
       "      <td>5786.796086</td>\n",
       "      <td>5851.889266</td>\n",
       "      <td>5916.982446</td>\n",
       "    </tr>\n",
       "  </tbody>\n",
       "</table>\n",
       "<p>4500 rows × 50 columns</p>\n",
       "</div>"
      ],
      "text/plain": [
       "               40           41           42           43           44  \\\n",
       "0     2345.002879  2422.094209  2499.185540  2576.276870  2653.368200   \n",
       "1     1210.483741  1318.223410  1425.963079  1533.702748  1641.442418   \n",
       "2     2025.247961  2116.530983  2207.814005  2299.097028  2390.380050   \n",
       "3     1778.946943  1868.078689  1957.210435  2046.342180  2135.473926   \n",
       "4     2686.829769  2761.807728  2836.785688  2911.763648  2986.741607   \n",
       "...           ...          ...          ...          ...          ...   \n",
       "4495  2376.116103  2451.372111  2526.628119  2601.884127  2677.140135   \n",
       "4496  2224.871867  2309.444107  2394.016348  2478.588589  2563.160830   \n",
       "4497  2947.100836  3014.391403  3081.681971  3148.972538  3216.263105   \n",
       "4498  2671.732872  2740.294972  2808.857072  2877.419172  2945.981271   \n",
       "4499  2727.416609  2792.509789  2857.602970  2922.696150  2987.789331   \n",
       "\n",
       "               45           46           47           48           49  ...  \\\n",
       "0     2730.459531  2807.550861  2884.642191  2961.733521  3038.824852  ...   \n",
       "1     1749.182087  1856.921756  1964.661425  2072.401094  2180.140763  ...   \n",
       "2     2481.663072  2572.946094  2664.229116  2755.512138  2846.795160  ...   \n",
       "3     2224.605671  2313.737417  2402.869163  2492.000908  2581.132654  ...   \n",
       "4     3061.719567  3136.697526  3211.675486  3286.653446  3361.631405  ...   \n",
       "...           ...          ...          ...          ...          ...  ...   \n",
       "4495  2752.396143  2827.652151  2902.908159  2978.164167  3053.420175  ...   \n",
       "4496  2647.733071  2732.305312  2816.877552  2901.449793  2986.022034  ...   \n",
       "4497  3283.553673  3350.844240  3418.134808  3485.425375  3552.715942  ...   \n",
       "4498  3014.543371  3083.105471  3151.667570  3220.229670  3288.791770  ...   \n",
       "4499  3052.882511  3117.975691  3183.068872  3248.162052  3313.255232  ...   \n",
       "\n",
       "               80           81           82           83           84  \\\n",
       "0     5428.656092  5505.747422  5582.838752  5659.930083  5737.021413   \n",
       "1     5520.070504  5627.810173  5735.549842  5843.289511  5951.029180   \n",
       "2     5676.568846  5767.851868  5859.134890  5950.417912  6041.700934   \n",
       "3     5344.216768  5433.348514  5522.480259  5611.612005  5700.743750   \n",
       "4     5685.948153  5760.926113  5835.904073  5910.882032  5985.859992   \n",
       "...           ...          ...          ...          ...          ...   \n",
       "4495  5386.356420  5461.612428  5536.868436  5612.124444  5687.380452   \n",
       "4496  5607.761500  5692.333741  5776.905981  5861.478222  5946.050463   \n",
       "4497  5638.723531  5706.014099  5773.304666  5840.595233  5907.885801   \n",
       "4498  5414.216860  5482.778960  5551.341059  5619.903159  5688.465259   \n",
       "4499  5331.143823  5396.237004  5461.330184  5526.423364  5591.516545   \n",
       "\n",
       "               85           86           87           88           89  \n",
       "0     5814.112743  5891.204074  5968.295404  6045.386734  6122.478065  \n",
       "1     6058.768849  6166.508518  6274.248187  6381.987856  6489.727525  \n",
       "2     6132.983956  6224.266978  6315.550000  6406.833022  6498.116045  \n",
       "3     5789.875496  5879.007242  5968.138987  6057.270733  6146.402478  \n",
       "4     6060.837951  6135.815911  6210.793871  6285.771830  6360.749790  \n",
       "...           ...          ...          ...          ...          ...  \n",
       "4495  5762.636460  5837.892467  5913.148475  5988.404483  6063.660491  \n",
       "4496  6030.622704  6115.194945  6199.767186  6284.339426  6368.911667  \n",
       "4497  5975.176368  6042.466935  6109.757503  6177.048070  6244.338638  \n",
       "4498  5757.027359  5825.589458  5894.151558  5962.713658  6031.275757  \n",
       "4499  5656.609725  5721.702905  5786.796086  5851.889266  5916.982446  \n",
       "\n",
       "[4500 rows x 50 columns]"
      ]
     },
     "execution_count": 14,
     "metadata": {},
     "output_type": "execute_result"
    }
   ],
   "source": [
    "df_b"
   ]
  },
  {
   "cell_type": "code",
   "execution_count": 15,
   "metadata": {
    "ExecuteTime": {
     "end_time": "2020-09-29T15:32:27.958149Z",
     "start_time": "2020-09-29T15:32:27.857383Z"
    }
   },
   "outputs": [],
   "source": [
    "# ベイズ信頼区間の上限値下限値を出す\n",
    "\n",
    "low_y50, high_y50 = mstats.mquantiles(df_b, [0.25,0.75], axis=0)\n",
    "low_y95, high_y95 = mstats.mquantiles(df_b, [0.025,0.975], axis=0)"
   ]
  },
  {
   "cell_type": "code",
   "execution_count": 16,
   "metadata": {
    "ExecuteTime": {
     "end_time": "2020-09-29T15:32:28.094749Z",
     "start_time": "2020-09-29T15:32:27.959112Z"
    }
   },
   "outputs": [
    {
     "data": {
      "text/plain": [
       "[<matplotlib.lines.Line2D at 0x172f8509848>]"
      ]
     },
     "execution_count": 16,
     "metadata": {},
     "output_type": "execute_result"
    },
    {
     "data": {
      "image/png": "[encoded data removed]",
      "text/plain": [
       "<Figure size 432x288 with 1 Axes>"
      ]
     },
     "metadata": {},
     "output_type": "display_data"
    }
   ],
   "source": [
    "# ベイズ信頼区間を塗りつぶす\n",
    "# データが多いところは信頼区間が狭い=予測精度が高い\n",
    "# データが少ないと信頼区間は広くなる\n",
    "\n",
    "plt.scatter(df[\"space\"],df[\"value\"])\n",
    "plt.fill_between(X_s, low_y50, high_y50, alpha=0.6, color=\"darkgray\")\n",
    "plt.fill_between(X_s, low_y95, high_y95, alpha=0.3, color=\"gray\")\n",
    "a = 78.3\n",
    "b = -713.7\n",
    "y = a * X_s + b\n",
    "plt.plot(X_s, y, color =\"black\")"
   ]
  },
  {
   "cell_type": "code",
   "execution_count": 17,
   "metadata": {
    "ExecuteTime": {
     "end_time": "2020-09-29T15:32:28.103724Z",
     "start_time": "2020-09-29T15:32:28.095748Z"
    }
   },
   "outputs": [],
   "source": [
    "# 予測区間出すために作成した統計モデルの予測値をサンプリング\n",
    "\n",
    "Y_p = fit.extract(\"Y_s\")[\"Y_s\"]"
   ]
  },
  {
   "cell_type": "code",
   "execution_count": 18,
   "metadata": {
    "ExecuteTime": {
     "end_time": "2020-09-29T15:32:28.187507Z",
     "start_time": "2020-09-29T15:32:28.106718Z"
    }
   },
   "outputs": [],
   "source": [
    "# 95%信頼区間準備\n",
    "\n",
    "low_y, high_y = mstats.mquantiles(Y_p, [0.025,0.975], axis=0)"
   ]
  },
  {
   "cell_type": "code",
   "execution_count": 19,
   "metadata": {
    "ExecuteTime": {
     "end_time": "2020-09-29T15:32:28.407945Z",
     "start_time": "2020-09-29T15:32:28.188505Z"
    }
   },
   "outputs": [
    {
     "data": {
      "text/plain": [
       "[<matplotlib.lines.Line2D at 0x172f8489d08>]"
      ]
     },
     "execution_count": 19,
     "metadata": {},
     "output_type": "execute_result"
    },
    {
     "data": {
      "image/png": "[encoded data removed]",
      "text/plain": [
       "<Figure size 432x288 with 1 Axes>"
      ]
     },
     "metadata": {},
     "output_type": "display_data"
    }
   ],
   "source": [
    "# 予測信頼区間を塗りつぶす\n",
    "# 95%信頼区間なのでplot点をすっぽり覆うようになってる\n",
    "\n",
    "plt.scatter(df[\"space\"],df[\"value\"])\n",
    "plt.fill_between(X_s, low_y, high_y, alpha=0.3, color=\"gray\")\n",
    "a = 78.3\n",
    "b = -713.7\n",
    "y = a * X_s + b\n",
    "plt.plot(X_s, y, color =\"black\")"
   ]
  },
  {
   "cell_type": "code",
   "execution_count": null,
   "metadata": {},
   "outputs": [],
   "source": []
  }
 ],
 "metadata": {
  "hide_input": false,
  "kernelspec": {
   "display_name": "Python 3",
   "language": "python",
   "name": "python3"
  },
  "language_info": {
   "codemirror_mode": {
    "name": "ipython",
    "version": 3
   },
   "file_extension": ".py",
   "mimetype": "text/x-python",
   "name": "python",
   "nbconvert_exporter": "python",
   "pygments_lexer": "ipython3",
   "version": "3.7.7"
  }
 },
 "nbformat": 4,
 "nbformat_minor": 2
}
