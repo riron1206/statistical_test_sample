{
 "cells": [
  {
   "cell_type": "markdown",
   "metadata": {},
   "source": [
    "# 薬の致死量をジスティクス回帰で調べる"
   ]
  },
  {
   "cell_type": "code",
   "execution_count": 1,
   "metadata": {
    "ExecuteTime": {
     "end_time": "2020-09-29T15:59:05.666541Z",
     "start_time": "2020-09-29T15:59:03.181137Z"
    }
   },
   "outputs": [],
   "source": [
    "import pandas as pd\n",
    "import matplotlib.pyplot as plt\n",
    "import numpy as np\n",
    "import pystan\n",
    "from scipy.stats import mstats\n",
    "%matplotlib inline"
   ]
  },
  {
   "cell_type": "code",
   "execution_count": 2,
   "metadata": {
    "ExecuteTime": {
     "end_time": "2020-09-29T15:59:05.673490Z",
     "start_time": "2020-09-29T15:59:05.668534Z"
    }
   },
   "outputs": [],
   "source": [
    "plt.style.use(\"ggplot\")"
   ]
  },
  {
   "cell_type": "code",
   "execution_count": 3,
   "metadata": {
    "ExecuteTime": {
     "end_time": "2020-09-29T15:59:05.829290Z",
     "start_time": "2020-09-29T15:59:05.675484Z"
    }
   },
   "outputs": [],
   "source": [
    "df = pd.read_excel(\"./data/dose_response.xlsx\")"
   ]
  },
  {
   "cell_type": "code",
   "execution_count": 4,
   "metadata": {
    "ExecuteTime": {
     "end_time": "2020-09-29T15:59:05.865208Z",
     "start_time": "2020-09-29T15:59:05.830287Z"
    }
   },
   "outputs": [
    {
     "data": {
      "text/html": [
       "<div>\n",
       "<style scoped>\n",
       "    .dataframe tbody tr th:only-of-type {\n",
       "        vertical-align: middle;\n",
       "    }\n",
       "\n",
       "    .dataframe tbody tr th {\n",
       "        vertical-align: top;\n",
       "    }\n",
       "\n",
       "    .dataframe thead th {\n",
       "        text-align: right;\n",
       "    }\n",
       "</style>\n",
       "<table border=\"1\" class=\"dataframe\">\n",
       "  <thead>\n",
       "    <tr style=\"text-align: right;\">\n",
       "      <th></th>\n",
       "      <th>log10 C</th>\n",
       "      <th>death</th>\n",
       "    </tr>\n",
       "  </thead>\n",
       "  <tbody>\n",
       "    <tr>\n",
       "      <th>0</th>\n",
       "      <td>0.95</td>\n",
       "      <td>0</td>\n",
       "    </tr>\n",
       "    <tr>\n",
       "      <th>1</th>\n",
       "      <td>0.94</td>\n",
       "      <td>0</td>\n",
       "    </tr>\n",
       "    <tr>\n",
       "      <th>2</th>\n",
       "      <td>0.95</td>\n",
       "      <td>0</td>\n",
       "    </tr>\n",
       "    <tr>\n",
       "      <th>3</th>\n",
       "      <td>0.96</td>\n",
       "      <td>0</td>\n",
       "    </tr>\n",
       "    <tr>\n",
       "      <th>4</th>\n",
       "      <td>0.99</td>\n",
       "      <td>0</td>\n",
       "    </tr>\n",
       "  </tbody>\n",
       "</table>\n",
       "</div>"
      ],
      "text/plain": [
       "   log10 C  death\n",
       "0     0.95      0\n",
       "1     0.94      0\n",
       "2     0.95      0\n",
       "3     0.96      0\n",
       "4     0.99      0"
      ]
     },
     "execution_count": 4,
     "metadata": {},
     "output_type": "execute_result"
    }
   ],
   "source": [
    "# log10 C: 薬品の投与量の対数\n",
    "# death: １なら死んでる0なら生存\n",
    "\n",
    "df.head()"
   ]
  },
  {
   "cell_type": "code",
   "execution_count": 5,
   "metadata": {
    "ExecuteTime": {
     "end_time": "2020-09-29T15:59:06.134474Z",
     "start_time": "2020-09-29T15:59:05.866196Z"
    }
   },
   "outputs": [
    {
     "data": {
      "text/plain": [
       "<matplotlib.collections.PathCollection at 0x2ac6c869648>"
      ]
     },
     "execution_count": 5,
     "metadata": {},
     "output_type": "execute_result"
    },
    {
     "data": {
      "image/png": "[encoded data removed]",
      "text/plain": [
       "<Figure size 432x288 with 1 Axes>"
      ]
     },
     "metadata": {},
     "output_type": "display_data"
    }
   ],
   "source": [
    "# 薬品の量がある閾値を超えると死亡確率急激に増加する\n",
    "\n",
    "plt.scatter(df[\"log10 C\"], df[\"death\"])"
   ]
  },
  {
   "cell_type": "code",
   "execution_count": 6,
   "metadata": {
    "ExecuteTime": {
     "end_time": "2020-09-29T15:59:06.140473Z",
     "start_time": "2020-09-29T15:59:06.136471Z"
    }
   },
   "outputs": [],
   "source": [
    "# PyStanは書き方が特殊\n",
    "# コメントで以下のようなブロックを書く必要がある\n",
    "# ①dataブロック（観測したデータの入れ物）→\n",
    "# ②パラメータのブロック→\n",
    "#  ベルヌーイロジットののパラメータはa,bだけ\n",
    "# ③統計モデルの（尤度関数）ブロック→\n",
    "# ④事前分布\n",
    "#  省略している。事前分布していなければ無条件兼事前分布が事前分布になる\n",
    "\n",
    "stan_model = \"\"\"\n",
    "data {\n",
    "  int N;\n",
    "  real X[N];\n",
    "  int<lower=0, upper=1> Y[N];\n",
    "}\n",
    "\n",
    "parameters {\n",
    "  real a;\n",
    "  real b;\n",
    "}\n",
    "\n",
    "model {\n",
    "  for (n in 1:N){\n",
    "    Y[n] ~ bernoulli_logit(a * X[n] + b);\n",
    "  }\n",
    "}\n",
    "\n",
    "\"\"\""
   ]
  },
  {
   "cell_type": "code",
   "execution_count": 7,
   "metadata": {
    "ExecuteTime": {
     "end_time": "2020-09-29T15:59:53.516890Z",
     "start_time": "2020-09-29T15:59:06.142453Z"
    }
   },
   "outputs": [
    {
     "name": "stderr",
     "output_type": "stream",
     "text": [
      "INFO:pystan:COMPILING THE C++ CODE FOR MODEL anon_model_2ceeea67f566a1f79865245e63738ff6 NOW.\n"
     ]
    }
   ],
   "source": [
    "# PyStanはコンパイルが必要（C++でコンパイルされる）\n",
    "# 結構時間かかる\n",
    "\n",
    "sm = pystan.StanModel(model_code= stan_model)"
   ]
  },
  {
   "cell_type": "code",
   "execution_count": 8,
   "metadata": {
    "ExecuteTime": {
     "end_time": "2020-09-29T15:59:53.522843Z",
     "start_time": "2020-09-29T15:59:53.517885Z"
    }
   },
   "outputs": [],
   "source": [
    "# dataブロックに入れるデータを辞書型で渡す\n",
    "\n",
    "stan_data = {\"N\":df.shape[0], \"X\":df[\"log10 C\"], \"Y\":df[\"death\"]}"
   ]
  },
  {
   "cell_type": "code",
   "execution_count": 9,
   "metadata": {
    "ExecuteTime": {
     "end_time": "2020-09-29T15:59:57.065937Z",
     "start_time": "2020-09-29T15:59:53.524838Z"
    }
   },
   "outputs": [],
   "source": [
    "# MCMCでサンプリング\n",
    "\n",
    "fit = sm.sampling(data = stan_data, iter = 2000, warmup=500, chains=3, seed=123)"
   ]
  },
  {
   "cell_type": "code",
   "execution_count": 10,
   "metadata": {
    "ExecuteTime": {
     "end_time": "2020-09-29T15:59:57.090873Z",
     "start_time": "2020-09-29T15:59:57.068930Z"
    }
   },
   "outputs": [
    {
     "data": {
      "text/plain": [
       "Inference for Stan model: anon_model_2ceeea67f566a1f79865245e63738ff6.\n",
       "3 chains, each with iter=2000; warmup=500; thin=1; \n",
       "post-warmup draws per chain=1500, total post-warmup draws=4500.\n",
       "\n",
       "       mean se_mean     sd   2.5%    25%    50%    75%  97.5%  n_eff   Rhat\n",
       "a     13.62    0.14   3.46   7.94  11.15  13.18  15.66  21.12    594    1.0\n",
       "b    -20.31    0.21   5.24 -31.77 -23.53 -19.68 -16.59 -11.72    594    1.0\n",
       "lp__ -14.91    0.04   1.04  -17.7 -15.33  -14.6 -14.17 -13.89    844    1.0\n",
       "\n",
       "Samples were drawn using NUTS at Wed Sep 30 00:59:57 2020.\n",
       "For each parameter, n_eff is a crude measure of effective sample size,\n",
       "and Rhat is the potential scale reduction factor on split chains (at \n",
       "convergence, Rhat=1)."
      ]
     },
     "execution_count": 10,
     "metadata": {},
     "output_type": "execute_result"
    }
   ],
   "source": [
    "# 結果の抽出\n",
    "# 事後分布の平均値や誤差が表示される\n",
    "# Rhat<=1ならうまく収束している\n",
    "\n",
    "fit"
   ]
  },
  {
   "cell_type": "code",
   "execution_count": 11,
   "metadata": {
    "ExecuteTime": {
     "end_time": "2020-09-29T15:59:57.161044Z",
     "start_time": "2020-09-29T15:59:57.093224Z"
    }
   },
   "outputs": [],
   "source": [
    "# 推定されたパラメータ\n",
    "\n",
    "a, b = 13.57, -20.27"
   ]
  },
  {
   "cell_type": "code",
   "execution_count": 12,
   "metadata": {
    "ExecuteTime": {
     "end_time": "2020-09-29T15:59:57.801494Z",
     "start_time": "2020-09-29T15:59:57.163044Z"
    }
   },
   "outputs": [
    {
     "name": "stderr",
     "output_type": "stream",
     "text": [
      "WARNING:pystan:Deprecation warning. In future, use ArviZ library (`pip install arviz`)\n"
     ]
    },
    {
     "data": {
      "image/png": "[encoded data removed]",
      "text/plain": [
       "<Figure size 432x288 with 4 Axes>"
      ]
     },
     "metadata": {},
     "output_type": "display_data"
    }
   ],
   "source": [
    "# 事後分布plot\n",
    "# トレースプロットは横軸step縦軸サンプリングの値\n",
    "# トレースプロットがまんべんなくplot（サンプリング）されているなら収束してる\n",
    "\n",
    "fig = fit.plot()"
   ]
  },
  {
   "cell_type": "code",
   "execution_count": 13,
   "metadata": {
    "ExecuteTime": {
     "end_time": "2020-09-29T15:59:57.808474Z",
     "start_time": "2020-09-29T15:59:57.802491Z"
    }
   },
   "outputs": [],
   "source": [
    "# ベイズ信頼区間を出すためにパラメータの値抽出\n",
    "\n",
    "ms_a = fit.extract(\"a\")[\"a\"]\n",
    "ms_b = fit.extract(\"b\")[\"b\"]"
   ]
  },
  {
   "cell_type": "code",
   "execution_count": 14,
   "metadata": {
    "ExecuteTime": {
     "end_time": "2020-09-29T15:59:57.933214Z",
     "start_time": "2020-09-29T15:59:57.811039Z"
    }
   },
   "outputs": [],
   "source": [
    "# 抽出したパラメータでロジスティックス関数何本も書く\n",
    "\n",
    "x = np.arange(1.0, 2.0, 0.01)\n",
    "f = lambda x : 1.0 / (1.0 + np.exp(-x))  # ロジスティックス関数\n",
    "df_b = pd.DataFrame([])\n",
    "for i in range(x.shape[0]):\n",
    "    df_b[i] = f(ms_a * x[i] + ms_b)"
   ]
  },
  {
   "cell_type": "code",
   "execution_count": 15,
   "metadata": {
    "ExecuteTime": {
     "end_time": "2020-09-29T15:59:58.000036Z",
     "start_time": "2020-09-29T15:59:57.934225Z"
    }
   },
   "outputs": [
    {
     "data": {
      "text/html": [
       "<div>\n",
       "<style scoped>\n",
       "    .dataframe tbody tr th:only-of-type {\n",
       "        vertical-align: middle;\n",
       "    }\n",
       "\n",
       "    .dataframe tbody tr th {\n",
       "        vertical-align: top;\n",
       "    }\n",
       "\n",
       "    .dataframe thead th {\n",
       "        text-align: right;\n",
       "    }\n",
       "</style>\n",
       "<table border=\"1\" class=\"dataframe\">\n",
       "  <thead>\n",
       "    <tr style=\"text-align: right;\">\n",
       "      <th></th>\n",
       "      <th>0</th>\n",
       "      <th>1</th>\n",
       "      <th>2</th>\n",
       "      <th>3</th>\n",
       "      <th>4</th>\n",
       "      <th>5</th>\n",
       "      <th>6</th>\n",
       "      <th>7</th>\n",
       "      <th>8</th>\n",
       "      <th>9</th>\n",
       "      <th>...</th>\n",
       "      <th>90</th>\n",
       "      <th>91</th>\n",
       "      <th>92</th>\n",
       "      <th>93</th>\n",
       "      <th>94</th>\n",
       "      <th>95</th>\n",
       "      <th>96</th>\n",
       "      <th>97</th>\n",
       "      <th>98</th>\n",
       "      <th>99</th>\n",
       "    </tr>\n",
       "  </thead>\n",
       "  <tbody>\n",
       "    <tr>\n",
       "      <th>0</th>\n",
       "      <td>0.023472</td>\n",
       "      <td>0.025449</td>\n",
       "      <td>0.027587</td>\n",
       "      <td>0.029899</td>\n",
       "      <td>0.032399</td>\n",
       "      <td>0.035101</td>\n",
       "      <td>0.038018</td>\n",
       "      <td>0.041168</td>\n",
       "      <td>0.044567</td>\n",
       "      <td>0.048232</td>\n",
       "      <td>...</td>\n",
       "      <td>0.976588</td>\n",
       "      <td>0.978410</td>\n",
       "      <td>0.980093</td>\n",
       "      <td>0.981647</td>\n",
       "      <td>0.983082</td>\n",
       "      <td>0.984407</td>\n",
       "      <td>0.985629</td>\n",
       "      <td>0.986757</td>\n",
       "      <td>0.987797</td>\n",
       "      <td>0.988757</td>\n",
       "    </tr>\n",
       "    <tr>\n",
       "      <th>1</th>\n",
       "      <td>0.005514</td>\n",
       "      <td>0.006176</td>\n",
       "      <td>0.006917</td>\n",
       "      <td>0.007747</td>\n",
       "      <td>0.008675</td>\n",
       "      <td>0.009713</td>\n",
       "      <td>0.010874</td>\n",
       "      <td>0.012172</td>\n",
       "      <td>0.013623</td>\n",
       "      <td>0.015245</td>\n",
       "      <td>...</td>\n",
       "      <td>0.993778</td>\n",
       "      <td>0.994445</td>\n",
       "      <td>0.995041</td>\n",
       "      <td>0.995573</td>\n",
       "      <td>0.996049</td>\n",
       "      <td>0.996473</td>\n",
       "      <td>0.996852</td>\n",
       "      <td>0.997191</td>\n",
       "      <td>0.997493</td>\n",
       "      <td>0.997763</td>\n",
       "    </tr>\n",
       "    <tr>\n",
       "      <th>2</th>\n",
       "      <td>0.001787</td>\n",
       "      <td>0.002087</td>\n",
       "      <td>0.002437</td>\n",
       "      <td>0.002846</td>\n",
       "      <td>0.003324</td>\n",
       "      <td>0.003882</td>\n",
       "      <td>0.004532</td>\n",
       "      <td>0.005291</td>\n",
       "      <td>0.006176</td>\n",
       "      <td>0.007209</td>\n",
       "      <td>...</td>\n",
       "      <td>0.999538</td>\n",
       "      <td>0.999604</td>\n",
       "      <td>0.999661</td>\n",
       "      <td>0.999710</td>\n",
       "      <td>0.999752</td>\n",
       "      <td>0.999788</td>\n",
       "      <td>0.999818</td>\n",
       "      <td>0.999844</td>\n",
       "      <td>0.999867</td>\n",
       "      <td>0.999886</td>\n",
       "    </tr>\n",
       "    <tr>\n",
       "      <th>3</th>\n",
       "      <td>0.004785</td>\n",
       "      <td>0.005350</td>\n",
       "      <td>0.005983</td>\n",
       "      <td>0.006689</td>\n",
       "      <td>0.007478</td>\n",
       "      <td>0.008360</td>\n",
       "      <td>0.009344</td>\n",
       "      <td>0.010443</td>\n",
       "      <td>0.011670</td>\n",
       "      <td>0.013039</td>\n",
       "      <td>...</td>\n",
       "      <td>0.991599</td>\n",
       "      <td>0.992485</td>\n",
       "      <td>0.993278</td>\n",
       "      <td>0.993988</td>\n",
       "      <td>0.994623</td>\n",
       "      <td>0.995192</td>\n",
       "      <td>0.995700</td>\n",
       "      <td>0.996155</td>\n",
       "      <td>0.996562</td>\n",
       "      <td>0.996926</td>\n",
       "    </tr>\n",
       "    <tr>\n",
       "      <th>4</th>\n",
       "      <td>0.000170</td>\n",
       "      <td>0.000202</td>\n",
       "      <td>0.000239</td>\n",
       "      <td>0.000284</td>\n",
       "      <td>0.000336</td>\n",
       "      <td>0.000398</td>\n",
       "      <td>0.000472</td>\n",
       "      <td>0.000560</td>\n",
       "      <td>0.000664</td>\n",
       "      <td>0.000787</td>\n",
       "      <td>...</td>\n",
       "      <td>0.998694</td>\n",
       "      <td>0.998898</td>\n",
       "      <td>0.999070</td>\n",
       "      <td>0.999216</td>\n",
       "      <td>0.999338</td>\n",
       "      <td>0.999442</td>\n",
       "      <td>0.999529</td>\n",
       "      <td>0.999603</td>\n",
       "      <td>0.999665</td>\n",
       "      <td>0.999717</td>\n",
       "    </tr>\n",
       "  </tbody>\n",
       "</table>\n",
       "<p>5 rows × 100 columns</p>\n",
       "</div>"
      ],
      "text/plain": [
       "         0         1         2         3         4         5         6   \\\n",
       "0  0.023472  0.025449  0.027587  0.029899  0.032399  0.035101  0.038018   \n",
       "1  0.005514  0.006176  0.006917  0.007747  0.008675  0.009713  0.010874   \n",
       "2  0.001787  0.002087  0.002437  0.002846  0.003324  0.003882  0.004532   \n",
       "3  0.004785  0.005350  0.005983  0.006689  0.007478  0.008360  0.009344   \n",
       "4  0.000170  0.000202  0.000239  0.000284  0.000336  0.000398  0.000472   \n",
       "\n",
       "         7         8         9   ...        90        91        92        93  \\\n",
       "0  0.041168  0.044567  0.048232  ...  0.976588  0.978410  0.980093  0.981647   \n",
       "1  0.012172  0.013623  0.015245  ...  0.993778  0.994445  0.995041  0.995573   \n",
       "2  0.005291  0.006176  0.007209  ...  0.999538  0.999604  0.999661  0.999710   \n",
       "3  0.010443  0.011670  0.013039  ...  0.991599  0.992485  0.993278  0.993988   \n",
       "4  0.000560  0.000664  0.000787  ...  0.998694  0.998898  0.999070  0.999216   \n",
       "\n",
       "         94        95        96        97        98        99  \n",
       "0  0.983082  0.984407  0.985629  0.986757  0.987797  0.988757  \n",
       "1  0.996049  0.996473  0.996852  0.997191  0.997493  0.997763  \n",
       "2  0.999752  0.999788  0.999818  0.999844  0.999867  0.999886  \n",
       "3  0.994623  0.995192  0.995700  0.996155  0.996562  0.996926  \n",
       "4  0.999338  0.999442  0.999529  0.999603  0.999665  0.999717  \n",
       "\n",
       "[5 rows x 100 columns]"
      ]
     },
     "execution_count": 15,
     "metadata": {},
     "output_type": "execute_result"
    }
   ],
   "source": [
    "df_b.head()"
   ]
  },
  {
   "cell_type": "code",
   "execution_count": 16,
   "metadata": {
    "ExecuteTime": {
     "end_time": "2020-09-29T15:59:58.161446Z",
     "start_time": "2020-09-29T15:59:58.002031Z"
    }
   },
   "outputs": [],
   "source": [
    "# ベイズ信頼区間の上限下限\n",
    "\n",
    "low_y50, high_y50 = mstats.mquantiles(df_b, [0.25, 0.75], axis=0)\n",
    "low_y95, high_y95 = mstats.mquantiles(df_b, [0.025, 0.975], axis=0)"
   ]
  },
  {
   "cell_type": "code",
   "execution_count": 17,
   "metadata": {
    "ExecuteTime": {
     "end_time": "2020-09-29T15:59:58.315371Z",
     "start_time": "2020-09-29T15:59:58.164453Z"
    }
   },
   "outputs": [
    {
     "data": {
      "text/plain": [
       "[<matplotlib.lines.Line2D at 0x2ac6ea7ed48>]"
      ]
     },
     "execution_count": 17,
     "metadata": {},
     "output_type": "execute_result"
    },
    {
     "data": {
      "image/png": "[encoded data removed]",
      "text/plain": [
       "<Figure size 432x288 with 1 Axes>"
      ]
     },
     "metadata": {},
     "output_type": "display_data"
    }
   ],
   "source": [
    "# ベイズ信頼区間含めて観測データplot\n",
    "\n",
    "plt.scatter(df[\"log10 C\"], df[\"death\"])\n",
    "plt.fill_between(x, low_y95, high_y95, alpha = 0.3, color = \"gray\")\n",
    "plt.fill_between(x, low_y50, high_y50, alpha = 0.6, color = \"darkgray\")\n",
    "plt.plot(x, f(a*x+b))"
   ]
  },
  {
   "cell_type": "code",
   "execution_count": null,
   "metadata": {},
   "outputs": [],
   "source": []
  }
 ],
 "metadata": {
  "hide_input": false,
  "kernelspec": {
   "display_name": "Python 3",
   "language": "python",
   "name": "python3"
  },
  "language_info": {
   "codemirror_mode": {
    "name": "ipython",
    "version": 3
   },
   "file_extension": ".py",
   "mimetype": "text/x-python",
   "name": "python",
   "nbconvert_exporter": "python",
   "pygments_lexer": "ipython3",
   "version": "3.7.7"
  }
 },
 "nbformat": 4,
 "nbformat_minor": 2
}
