{
 "cells": [
  {
   "cell_type": "code",
   "execution_count": 1,
   "metadata": {},
   "outputs": [
    {
     "name": "stdout",
     "output_type": "stream",
     "text": [
      "/c/Users/shingo/jupyter_notebook/tf_2_work/statistical_test_sample\n"
     ]
    },
    {
     "data": {
      "text/plain": [
       "'C:\\\\Users\\\\shingo\\\\Anaconda3\\\\envs\\\\tfgpu20\\\\python.exe'"
      ]
     },
     "execution_count": 1,
     "metadata": {},
     "output_type": "execute_result"
    }
   ],
   "source": [
    "!pwd\n",
    "%matplotlib inline\n",
    "import sys\n",
    "sys.executable"
   ]
  },
  {
   "cell_type": "markdown",
   "metadata": {},
   "source": [
    "# ポケモンを題材に因果推論を実践してみる\n",
    "- https://tepppei.hatenablog.com/"
   ]
  },
  {
   "cell_type": "code",
   "execution_count": 2,
   "metadata": {},
   "outputs": [
    {
     "name": "stdout",
     "output_type": "stream",
     "text": [
      "<class 'pandas.core.frame.DataFrame'>\n",
      "RangeIndex: 100 entries, 0 to 99\n",
      "Data columns (total 4 columns):\n",
      "Unnamed: 0      100 non-null int64\n",
      "rarity          100 non-null int64\n",
      "ball_type       100 non-null object\n",
      "thrown_balls    100 non-null int64\n",
      "dtypes: int64(3), object(1)\n",
      "memory usage: 3.2+ KB\n"
     ]
    },
    {
     "data": {
      "text/html": [
       "<div>\n",
       "<style scoped>\n",
       "    .dataframe tbody tr th:only-of-type {\n",
       "        vertical-align: middle;\n",
       "    }\n",
       "\n",
       "    .dataframe tbody tr th {\n",
       "        vertical-align: top;\n",
       "    }\n",
       "\n",
       "    .dataframe thead th {\n",
       "        text-align: right;\n",
       "    }\n",
       "</style>\n",
       "<table border=\"1\" class=\"dataframe\">\n",
       "  <thead>\n",
       "    <tr style=\"text-align: right;\">\n",
       "      <th></th>\n",
       "      <th>Unnamed: 0</th>\n",
       "      <th>rarity</th>\n",
       "      <th>ball_type</th>\n",
       "      <th>thrown_balls</th>\n",
       "    </tr>\n",
       "  </thead>\n",
       "  <tbody>\n",
       "    <tr>\n",
       "      <th>0</th>\n",
       "      <td>0</td>\n",
       "      <td>110</td>\n",
       "      <td>super</td>\n",
       "      <td>3</td>\n",
       "    </tr>\n",
       "    <tr>\n",
       "      <th>1</th>\n",
       "      <td>1</td>\n",
       "      <td>230</td>\n",
       "      <td>monster</td>\n",
       "      <td>2</td>\n",
       "    </tr>\n",
       "    <tr>\n",
       "      <th>2</th>\n",
       "      <td>2</td>\n",
       "      <td>110</td>\n",
       "      <td>super</td>\n",
       "      <td>4</td>\n",
       "    </tr>\n",
       "    <tr>\n",
       "      <th>3</th>\n",
       "      <td>3</td>\n",
       "      <td>110</td>\n",
       "      <td>super</td>\n",
       "      <td>1</td>\n",
       "    </tr>\n",
       "    <tr>\n",
       "      <th>4</th>\n",
       "      <td>4</td>\n",
       "      <td>120</td>\n",
       "      <td>super</td>\n",
       "      <td>2</td>\n",
       "    </tr>\n",
       "  </tbody>\n",
       "</table>\n",
       "</div>"
      ],
      "text/plain": [
       "   Unnamed: 0  rarity ball_type  thrown_balls\n",
       "0           0     110     super             3\n",
       "1           1     230   monster             2\n",
       "2           2     110     super             4\n",
       "3           3     110     super             1\n",
       "4           4     120     super             2"
      ]
     },
     "metadata": {},
     "output_type": "display_data"
    },
    {
     "data": {
      "text/html": [
       "<div>\n",
       "<style scoped>\n",
       "    .dataframe tbody tr th:only-of-type {\n",
       "        vertical-align: middle;\n",
       "    }\n",
       "\n",
       "    .dataframe tbody tr th {\n",
       "        vertical-align: top;\n",
       "    }\n",
       "\n",
       "    .dataframe thead th {\n",
       "        text-align: right;\n",
       "    }\n",
       "</style>\n",
       "<table border=\"1\" class=\"dataframe\">\n",
       "  <thead>\n",
       "    <tr style=\"text-align: right;\">\n",
       "      <th></th>\n",
       "      <th>Unnamed: 0</th>\n",
       "      <th>rarity</th>\n",
       "      <th>ball_type</th>\n",
       "      <th>thrown_balls</th>\n",
       "    </tr>\n",
       "  </thead>\n",
       "  <tbody>\n",
       "    <tr>\n",
       "      <th>count</th>\n",
       "      <td>100.000000</td>\n",
       "      <td>100.000</td>\n",
       "      <td>100</td>\n",
       "      <td>100.000000</td>\n",
       "    </tr>\n",
       "    <tr>\n",
       "      <th>unique</th>\n",
       "      <td>NaN</td>\n",
       "      <td>NaN</td>\n",
       "      <td>2</td>\n",
       "      <td>NaN</td>\n",
       "    </tr>\n",
       "    <tr>\n",
       "      <th>top</th>\n",
       "      <td>NaN</td>\n",
       "      <td>NaN</td>\n",
       "      <td>monster</td>\n",
       "      <td>NaN</td>\n",
       "    </tr>\n",
       "    <tr>\n",
       "      <th>freq</th>\n",
       "      <td>NaN</td>\n",
       "      <td>NaN</td>\n",
       "      <td>50</td>\n",
       "      <td>NaN</td>\n",
       "    </tr>\n",
       "    <tr>\n",
       "      <th>mean</th>\n",
       "      <td>49.500000</td>\n",
       "      <td>132.900</td>\n",
       "      <td>NaN</td>\n",
       "      <td>5.980000</td>\n",
       "    </tr>\n",
       "    <tr>\n",
       "      <th>std</th>\n",
       "      <td>29.011492</td>\n",
       "      <td>72.826</td>\n",
       "      <td>NaN</td>\n",
       "      <td>6.482268</td>\n",
       "    </tr>\n",
       "    <tr>\n",
       "      <th>min</th>\n",
       "      <td>0.000000</td>\n",
       "      <td>10.000</td>\n",
       "      <td>NaN</td>\n",
       "      <td>1.000000</td>\n",
       "    </tr>\n",
       "    <tr>\n",
       "      <th>25%</th>\n",
       "      <td>24.750000</td>\n",
       "      <td>65.000</td>\n",
       "      <td>NaN</td>\n",
       "      <td>1.000000</td>\n",
       "    </tr>\n",
       "    <tr>\n",
       "      <th>50%</th>\n",
       "      <td>49.500000</td>\n",
       "      <td>132.500</td>\n",
       "      <td>NaN</td>\n",
       "      <td>3.500000</td>\n",
       "    </tr>\n",
       "    <tr>\n",
       "      <th>75%</th>\n",
       "      <td>74.250000</td>\n",
       "      <td>201.250</td>\n",
       "      <td>NaN</td>\n",
       "      <td>7.250000</td>\n",
       "    </tr>\n",
       "    <tr>\n",
       "      <th>max</th>\n",
       "      <td>99.000000</td>\n",
       "      <td>255.000</td>\n",
       "      <td>NaN</td>\n",
       "      <td>36.000000</td>\n",
       "    </tr>\n",
       "  </tbody>\n",
       "</table>\n",
       "</div>"
      ],
      "text/plain": [
       "        Unnamed: 0   rarity ball_type  thrown_balls\n",
       "count   100.000000  100.000       100    100.000000\n",
       "unique         NaN      NaN         2           NaN\n",
       "top            NaN      NaN   monster           NaN\n",
       "freq           NaN      NaN        50           NaN\n",
       "mean     49.500000  132.900       NaN      5.980000\n",
       "std      29.011492   72.826       NaN      6.482268\n",
       "min       0.000000   10.000       NaN      1.000000\n",
       "25%      24.750000   65.000       NaN      1.000000\n",
       "50%      49.500000  132.500       NaN      3.500000\n",
       "75%      74.250000  201.250       NaN      7.250000\n",
       "max      99.000000  255.000       NaN     36.000000"
      ]
     },
     "metadata": {},
     "output_type": "display_data"
    }
   ],
   "source": [
    "import pandas as pd\n",
    "import matplotlib.pyplot as plt\n",
    "\n",
    "df = pd.read_csv('pokemon_ball_data.csv')\n",
    "df.info()\n",
    "display(df.head())\n",
    "display(df.describe(include='all'))"
   ]
  },
  {
   "cell_type": "markdown",
   "metadata": {},
   "source": [
    "## 対応のないt検定"
   ]
  },
  {
   "cell_type": "code",
   "execution_count": 3,
   "metadata": {},
   "outputs": [
    {
     "name": "stdout",
     "output_type": "stream",
     "text": [
      "variance(m_throws): 29.97\n",
      "variance(s_throws): 53.75\n",
      "ttest: t_val, p_val, free: -1.17, 0.24, 90.69\n"
     ]
    }
   ],
   "source": [
    "# https://www.haya-programming.com/entry/2019/05/24/005837\n",
    "from scipy import stats\n",
    "from statsmodels.stats.weightstats import ttest_ind\n",
    "from statistics import mean, median,variance,stdev\n",
    "\n",
    "m_throws = df[df['ball_type'] == 'monster']['thrown_balls']\n",
    "print(f\"variance(m_throws): {variance(m_throws):.2f}\")\n",
    "\n",
    "s_throws = df[df['ball_type'] == 'super']['thrown_balls']\n",
    "print(f\"variance(s_throws): {variance(s_throws):.2f}\")\n",
    "\n",
    "# 引数:alternative は\"two-sided\"と\"larger\"と\"smaller\"が渡せます。後ろの2つは片側のオプション\n",
    "# 引数:usevar は\"pooled\"と\"unequal\"が渡せます。スチューデントのt検定とウェルチのt検定に対応\n",
    "# 等分散でなさそうなのでウェルチのt検定つかう\n",
    "t_val, p_val, free = ttest_ind(m_throws, \n",
    "                               s_throws, \n",
    "                               alternative='two-sided',\n",
    "                               usevar=\"unequal\")\n",
    "print(f\"ttest: t_val, p_val, free: {t_val:.2f}, {p_val:.2f}, {free:.2f}\")\n",
    "# p値>0.05なので、帰無仮説棄却できない=平均の差がない\n",
    "# スーパーボールの方が性能いいとはならなかった\n",
    "# 直観と違うのでセレクションバイアスの可能性ある"
   ]
  },
  {
   "cell_type": "markdown",
   "metadata": {},
   "source": [
    "## 交絡因子の存在をデータ可視化で確認"
   ]
  },
  {
   "cell_type": "code",
   "execution_count": 4,
   "metadata": {},
   "outputs": [
    {
     "data": {
      "text/html": [
       "<div>\n",
       "<style scoped>\n",
       "    .dataframe tbody tr th:only-of-type {\n",
       "        vertical-align: middle;\n",
       "    }\n",
       "\n",
       "    .dataframe tbody tr th {\n",
       "        vertical-align: top;\n",
       "    }\n",
       "\n",
       "    .dataframe thead th {\n",
       "        text-align: right;\n",
       "    }\n",
       "</style>\n",
       "<table border=\"1\" class=\"dataframe\">\n",
       "  <thead>\n",
       "    <tr style=\"text-align: right;\">\n",
       "      <th></th>\n",
       "      <th>rarity</th>\n",
       "      <th>m_thrown</th>\n",
       "      <th>s_thrown</th>\n",
       "    </tr>\n",
       "  </thead>\n",
       "  <tbody>\n",
       "    <tr>\n",
       "      <th>0</th>\n",
       "      <td>10</td>\n",
       "      <td>NaN</td>\n",
       "      <td>36.0</td>\n",
       "    </tr>\n",
       "    <tr>\n",
       "      <th>1</th>\n",
       "      <td>15</td>\n",
       "      <td>NaN</td>\n",
       "      <td>6.0</td>\n",
       "    </tr>\n",
       "    <tr>\n",
       "      <th>2</th>\n",
       "      <td>20</td>\n",
       "      <td>NaN</td>\n",
       "      <td>14.0</td>\n",
       "    </tr>\n",
       "    <tr>\n",
       "      <th>3</th>\n",
       "      <td>25</td>\n",
       "      <td>NaN</td>\n",
       "      <td>2.0</td>\n",
       "    </tr>\n",
       "    <tr>\n",
       "      <th>4</th>\n",
       "      <td>30</td>\n",
       "      <td>NaN</td>\n",
       "      <td>9.0</td>\n",
       "    </tr>\n",
       "  </tbody>\n",
       "</table>\n",
       "</div>"
      ],
      "text/plain": [
       "   rarity  m_thrown  s_thrown\n",
       "0      10       NaN      36.0\n",
       "1      15       NaN       6.0\n",
       "2      20       NaN      14.0\n",
       "3      25       NaN       2.0\n",
       "4      30       NaN       9.0"
      ]
     },
     "metadata": {},
     "output_type": "display_data"
    },
    {
     "data": {
      "image/png": "[encoded data removed]",
      "text/plain": [
       "<Figure size 720x576 with 1 Axes>"
      ]
     },
     "metadata": {
      "needs_background": "light"
     },
     "output_type": "display_data"
    }
   ],
   "source": [
    "m_thrown = pd.Series(df[df['ball_type'] == 'monster'].groupby('rarity')['thrown_balls'].mean().astype(int), name='m_thrown')\n",
    "s_thrown = pd.Series(df[df['ball_type'] == 'super'].groupby('rarity')['thrown_balls'].mean().astype(int), name='s_thrown')\n",
    "df_m_s_thrown = pd.concat([m_thrown, s_thrown], axis=1).reset_index()\n",
    "display(df_m_s_thrown.head())\n",
    "\n",
    "# ボールの種類と捕まえやすさ・使ったボールの個数の関係\n",
    "# rarityはレア度。小さいほどレアポケ\n",
    "plt.figure(figsize=(10,8))\n",
    "plt.scatter(df_m_s_thrown['rarity'], df_m_s_thrown.iloc[:,1], label='monster')\n",
    "plt.scatter(df_m_s_thrown['rarity'], df_m_s_thrown.iloc[:,2], label='super')\n",
    "plt.xlabel('rarity')\n",
    "plt.ylabel('thrown_balls')\n",
    "plt.legend()\n",
    "plt.show()\n",
    "# 捕まえやすいポケモンほどモンスターボールが使われやすい傾向にある"
   ]
  },
  {
   "cell_type": "markdown",
   "metadata": {},
   "source": [
    "## 線形回帰によるモデル化\n",
    "#### t検定と同じく、ボール投げる数を目的変数:y、ボールタイプを説明変数:x とした線形回帰モデルをスーパーボールとモンスターボールでそれぞれ作成\n",
    "<br>\n",
    "\n",
    "#### 結果：\n",
    "- スーパーボールのモデル:y = 6.7400*x + b: 1回投げるとボール6個分の効果がある\n",
    "- モンスターボールのモデル:y = 5.2200*x + b : 1回投げるのにボール5個分の効果がある\n",
    "\n",
    "<br>\n",
    "\n",
    "#### t検定と同じく、（重みの）差があまりない"
   ]
  },
  {
   "cell_type": "code",
   "execution_count": 5,
   "metadata": {},
   "outputs": [
    {
     "data": {
      "text/html": [
       "<div>\n",
       "<style scoped>\n",
       "    .dataframe tbody tr th:only-of-type {\n",
       "        vertical-align: middle;\n",
       "    }\n",
       "\n",
       "    .dataframe tbody tr th {\n",
       "        vertical-align: top;\n",
       "    }\n",
       "\n",
       "    .dataframe thead th {\n",
       "        text-align: right;\n",
       "    }\n",
       "</style>\n",
       "<table border=\"1\" class=\"dataframe\">\n",
       "  <thead>\n",
       "    <tr style=\"text-align: right;\">\n",
       "      <th></th>\n",
       "      <th>Unnamed: 0</th>\n",
       "      <th>rarity</th>\n",
       "      <th>thrown_balls</th>\n",
       "      <th>ball_type_monster</th>\n",
       "      <th>ball_type_super</th>\n",
       "    </tr>\n",
       "  </thead>\n",
       "  <tbody>\n",
       "    <tr>\n",
       "      <th>0</th>\n",
       "      <td>0</td>\n",
       "      <td>110</td>\n",
       "      <td>3</td>\n",
       "      <td>0</td>\n",
       "      <td>1</td>\n",
       "    </tr>\n",
       "    <tr>\n",
       "      <th>1</th>\n",
       "      <td>1</td>\n",
       "      <td>230</td>\n",
       "      <td>2</td>\n",
       "      <td>1</td>\n",
       "      <td>0</td>\n",
       "    </tr>\n",
       "    <tr>\n",
       "      <th>2</th>\n",
       "      <td>2</td>\n",
       "      <td>110</td>\n",
       "      <td>4</td>\n",
       "      <td>0</td>\n",
       "      <td>1</td>\n",
       "    </tr>\n",
       "    <tr>\n",
       "      <th>3</th>\n",
       "      <td>3</td>\n",
       "      <td>110</td>\n",
       "      <td>1</td>\n",
       "      <td>0</td>\n",
       "      <td>1</td>\n",
       "    </tr>\n",
       "    <tr>\n",
       "      <th>4</th>\n",
       "      <td>4</td>\n",
       "      <td>120</td>\n",
       "      <td>2</td>\n",
       "      <td>0</td>\n",
       "      <td>1</td>\n",
       "    </tr>\n",
       "  </tbody>\n",
       "</table>\n",
       "</div>"
      ],
      "text/plain": [
       "   Unnamed: 0  rarity  thrown_balls  ball_type_monster  ball_type_super\n",
       "0           0     110             3                  0                1\n",
       "1           1     230             2                  1                0\n",
       "2           2     110             4                  0                1\n",
       "3           3     110             1                  0                1\n",
       "4           4     120             2                  0                1"
      ]
     },
     "metadata": {},
     "output_type": "display_data"
    },
    {
     "name": "stdout",
     "output_type": "stream",
     "text": [
      "<class 'pandas.core.frame.DataFrame'>\n",
      "RangeIndex: 100 entries, 0 to 99\n",
      "Data columns (total 5 columns):\n",
      "Unnamed: 0           100 non-null int64\n",
      "rarity               100 non-null int64\n",
      "thrown_balls         100 non-null int64\n",
      "ball_type_monster    100 non-null uint8\n",
      "ball_type_super      100 non-null uint8\n",
      "dtypes: int64(3), uint8(2)\n",
      "memory usage: 2.7 KB\n"
     ]
    }
   ],
   "source": [
    "import statsmodels.api as sm\n",
    "import statsmodels.formula.api as smf\n",
    "\n",
    "df_dummy = pd.get_dummies(df, columns=['ball_type'])\n",
    "display(df_dummy.head())\n",
    "df_dummy.info()"
   ]
  },
  {
   "cell_type": "code",
   "execution_count": 6,
   "metadata": {},
   "outputs": [
    {
     "name": "stdout",
     "output_type": "stream",
     "text": [
      "                 Generalized Linear Model Regression Results                  \n",
      "==============================================================================\n",
      "Dep. Variable:           thrown_balls   No. Observations:                  100\n",
      "Model:                            GLM   Df Residuals:                       99\n",
      "Model Family:                Gaussian   Df Model:                            0\n",
      "Link Function:               identity   Scale:                          55.198\n",
      "Method:                          IRLS   Log-Likelihood:                -341.94\n",
      "Date:                Thu, 14 May 2020   Deviance:                       5464.6\n",
      "Time:                        03:14:58   Pearson chi2:                 5.46e+03\n",
      "No. Iterations:                     3                                         \n",
      "Covariance Type:            nonrobust                                         \n",
      "===================================================================================\n",
      "                      coef    std err          z      P>|z|      [0.025      0.975]\n",
      "-----------------------------------------------------------------------------------\n",
      "ball_type_super     6.7400      1.051      6.415      0.000       4.681       8.799\n",
      "===================================================================================\n"
     ]
    },
    {
     "data": {
      "image/png": "[encoded data removed]",
      "text/plain": [
       "<Figure size 432x432 with 1 Axes>"
      ]
     },
     "metadata": {
      "needs_background": "light"
     },
     "output_type": "display_data"
    }
   ],
   "source": [
    "# 線形回帰\n",
    "# 線形予測子・確率分布・リンク関数の推定\n",
    "y = df_dummy['thrown_balls'] # 目的変数：y ボール投げた数\n",
    "x = df_dummy['ball_type_super'] # 説明変数：x（線形予測子：wx）ボールのタイプ（スーパーボール）\n",
    "link = sm.families.links.identity() # リンク関数：恒等リンク関数\n",
    "family = sm.families.Gaussian(link) # 確率分布：ガウス分布\n",
    "\n",
    "# model\n",
    "model = sm.GLM(y, x, family=family)\n",
    "results = model.fit()\n",
    "print(results.summary())\n",
    "\n",
    "# 重み\n",
    "w = results.params[0]\n",
    "\n",
    "# フィッティング直線\n",
    "y_hat = w * x\n",
    "\n",
    "# 予測結果の可視化\n",
    "fig = plt.figure(figsize=(6.0, 6.0))\n",
    "plt.plot(x, y, \"o\", label='y')\n",
    "plt.plot(x, y_hat, \"*\", color=\"r\", label='y_hat')\n",
    "plt.xlabel('x (thrown_balls)')\n",
    "plt.ylabel('y (ball_type_super)')\n",
    "plt.legend()\n",
    "plt.show()"
   ]
  },
  {
   "cell_type": "code",
   "execution_count": 7,
   "metadata": {},
   "outputs": [
    {
     "name": "stdout",
     "output_type": "stream",
     "text": [
      "                 Generalized Linear Model Regression Results                  \n",
      "==============================================================================\n",
      "Dep. Variable:           thrown_balls   No. Observations:                  100\n",
      "Model:                            GLM   Df Residuals:                       99\n",
      "Model Family:                Gaussian   Df Model:                            0\n",
      "Link Function:               identity   Scale:                          64.380\n",
      "Method:                          IRLS   Log-Likelihood:                -349.63\n",
      "Date:                Thu, 14 May 2020   Deviance:                       6373.6\n",
      "Time:                        03:14:58   Pearson chi2:                 6.37e+03\n",
      "No. Iterations:                     3                                         \n",
      "Covariance Type:            nonrobust                                         \n",
      "=====================================================================================\n",
      "                        coef    std err          z      P>|z|      [0.025      0.975]\n",
      "-------------------------------------------------------------------------------------\n",
      "ball_type_monster     5.2200      1.135      4.600      0.000       2.996       7.444\n",
      "=====================================================================================\n"
     ]
    },
    {
     "data": {
      "image/png": "[encoded data removed]",
      "text/plain": [
       "<Figure size 432x432 with 1 Axes>"
      ]
     },
     "metadata": {
      "needs_background": "light"
     },
     "output_type": "display_data"
    }
   ],
   "source": [
    "# 線形回帰\n",
    "# 線形予測子・確率分布・リンク関数の推定\n",
    "y = df_dummy['thrown_balls'] # 目的変数：y ボール投げた数\n",
    "x = df_dummy['ball_type_monster'] # 説明変数：x（線形予測子：wx）ボールのタイプ（モンスターボール）\n",
    "link = sm.families.links.identity() # リンク関数：恒等リンク関数\n",
    "family = sm.families.Gaussian(link) # 確率分布：ガウス分布\n",
    "\n",
    "# model\n",
    "model = sm.GLM(y, x, family=family)\n",
    "results = model.fit()\n",
    "print(results.summary())\n",
    "\n",
    "# 重み\n",
    "w = results.params[0]\n",
    "\n",
    "# フィッティング直線\n",
    "y_hat = w * x\n",
    "\n",
    "# 予測結果の可視化\n",
    "fig = plt.figure(figsize=(6.0, 6.0))\n",
    "plt.plot(x, y, \"o\", label='y')\n",
    "plt.plot(x, y_hat, \"*\", color=\"r\", label='y_hat')\n",
    "plt.xlabel('x (thrown_balls)')\n",
    "plt.ylabel('y (ball_type_super)')\n",
    "plt.legend()\n",
    "plt.show()"
   ]
  },
  {
   "cell_type": "markdown",
   "metadata": {},
   "source": [
    "## 線形重回帰によるモデル化（交絡因子の説明変数を増やす）\n",
    "#### ボール投げる数を目的変数:y、ボールタイプとポケモンの捕獲しやすさを説明変数:x1,x2 とした線形重回帰モデルをスーパーボールとモンスターボールでそれぞれ作成\n",
    "<br>\n",
    "\n",
    "#### 結果：\n",
    "- スーパーボールのモデル:y = 5.3877 * x1 + 0.0153 * x2 + b: 1回投げるとボール5個分の効果がある\n",
    "- モンスターボールのモデル:y = 2.1026 * x1 + 0.0176 * x2 + b : 1回投げるとボール2個分の効果がある\n",
    "\n",
    "<br>\n",
    "\n",
    "#### t検定と違い、（重み）ボール3個分の差があることが言える"
   ]
  },
  {
   "cell_type": "code",
   "execution_count": 8,
   "metadata": {},
   "outputs": [
    {
     "name": "stdout",
     "output_type": "stream",
     "text": [
      "                 Generalized Linear Model Regression Results                  \n",
      "==============================================================================\n",
      "Dep. Variable:           thrown_balls   No. Observations:                  100\n",
      "Model:                            GLM   Df Residuals:                       98\n",
      "Model Family:                Gaussian   Df Model:                            1\n",
      "Link Function:               identity   Scale:                          51.198\n",
      "Method:                          IRLS   Log-Likelihood:                -337.67\n",
      "Date:                Thu, 14 May 2020   Deviance:                       5017.4\n",
      "Time:                        03:14:58   Pearson chi2:                 5.02e+03\n",
      "No. Iterations:                     3                                         \n",
      "Covariance Type:            nonrobust                                         \n",
      "===================================================================================\n",
      "                      coef    std err          z      P>|z|      [0.025      0.975]\n",
      "-----------------------------------------------------------------------------------\n",
      "ball_type_super     5.3877      1.111      4.851      0.000       3.211       7.564\n",
      "rarity              0.0153      0.005      2.955      0.003       0.005       0.025\n",
      "===================================================================================\n"
     ]
    }
   ],
   "source": [
    "# 線形重回帰\n",
    "# 線形予測子・確率分布・リンク関数の推定\n",
    "y = df_dummy['thrown_balls'] # 目的変数：y = ボール投げた数\n",
    "x = df_dummy[['ball_type_super', 'rarity']] # 説明変数：x（線形予測子：wx）= ボールのタイプ（スーパーボール）+ ポケモンの捕獲しやすさ\n",
    "link = sm.families.links.identity() # リンク関数：恒等リンク関数\n",
    "family = sm.families.Gaussian(link) # 確率分布：ガウス分布\n",
    "\n",
    "# model\n",
    "model = sm.GLM(y, x, family=family)\n",
    "results = model.fit()\n",
    "print(results.summary())"
   ]
  },
  {
   "cell_type": "code",
   "execution_count": 9,
   "metadata": {},
   "outputs": [
    {
     "name": "stdout",
     "output_type": "stream",
     "text": [
      "                 Generalized Linear Model Regression Results                  \n",
      "==============================================================================\n",
      "Dep. Variable:           thrown_balls   No. Observations:                  100\n",
      "Model:                            GLM   Df Residuals:                       98\n",
      "Model Family:                Gaussian   Df Model:                            1\n",
      "Link Function:               identity   Scale:                          62.791\n",
      "Method:                          IRLS   Log-Likelihood:                -347.87\n",
      "Date:                Thu, 14 May 2020   Deviance:                       6153.5\n",
      "Time:                        03:14:58   Pearson chi2:                 6.15e+03\n",
      "No. Iterations:                     3                                         \n",
      "Covariance Type:            nonrobust                                         \n",
      "=====================================================================================\n",
      "                        coef    std err          z      P>|z|      [0.025      0.975]\n",
      "-------------------------------------------------------------------------------------\n",
      "ball_type_monster     2.1026      2.007      1.048      0.295      -1.831       6.037\n",
      "rarity                0.0176      0.009      1.872      0.061      -0.001       0.036\n",
      "=====================================================================================\n"
     ]
    }
   ],
   "source": [
    "# 線形重回帰\n",
    "# 線形予測子・確率分布・リンク関数の推定\n",
    "y = df_dummy['thrown_balls'] # 目的変数：y = ボール投げた数\n",
    "x = df_dummy[['ball_type_monster', 'rarity']] # 説明変数：x（線形予測子：wx）= ボールのタイプ（モンスターボール）+ ポケモンの捕獲しやすさ\n",
    "link = sm.families.links.identity() # リンク関数：恒等リンク関数\n",
    "family = sm.families.Gaussian(link) # 確率分布：ガウス分布\n",
    "\n",
    "# model\n",
    "model = sm.GLM(y, x, family=family)\n",
    "results = model.fit()\n",
    "print(results.summary())"
   ]
  },
  {
   "cell_type": "code",
   "execution_count": null,
   "metadata": {},
   "outputs": [],
   "source": []
  }
 ],
 "metadata": {
  "kernelspec": {
   "display_name": "Python 3",
   "language": "python",
   "name": "python3"
  },
  "language_info": {
   "codemirror_mode": {
    "name": "ipython",
    "version": 3
   },
   "file_extension": ".py",
   "mimetype": "text/x-python",
   "name": "python",
   "nbconvert_exporter": "python",
   "pygments_lexer": "ipython3",
   "version": "3.7.5"
  }
 },
 "nbformat": 4,
 "nbformat_minor": 2
}
